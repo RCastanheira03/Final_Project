{
 "cells": [
  {
   "cell_type": "code",
   "execution_count": null,
   "id": "1651e733-bf3b-4a0e-8316-0e44ce1dc268",
   "metadata": {},
   "outputs": [],
   "source": [
    "import pandas as pd\n",
    "import matplotlib.pyplot as plt\n",
    "import seaborn as sns\n",
    "import numpy as np\n",
    "import yaml\n",
    "import sys\n",
    "import os\n",
    "from datetime import datetime, timedelta\n",
    "\n",
    "project_root = os.path.abspath(os.path.join(os.getcwd(), '../..'))\n",
    "\n",
    "if project_root not in sys.path:\n",
    "    sys.path.append(project_root)\n",
    "\n",
    "from functions import detect_outliers_iqr\n",
    "\n",
    "try:\n",
    "    with open(\"../../config.yaml\", \"r\") as file:\n",
    "        config = yaml.safe_load(file)\n",
    "\n",
    "    df = pd.read_csv(config['data']['clean_data']['full_clean'], sep=\";\")\n",
    "\n",
    "except:\n",
    "    print(\"Yaml configuration file not found!\")"
   ]
  },
  {
   "cell_type": "code",
   "execution_count": null,
   "id": "74eec2df-2438-42ff-9ddd-1e8972a284dd",
   "metadata": {},
   "outputs": [],
   "source": [
    "df.head()"
   ]
  },
  {
   "cell_type": "raw",
   "id": "07f50152-7335-4747-ae94-1def336afb26",
   "metadata": {},
   "source": [
    "Does flight duration affect ticket price?"
   ]
  },
  {
   "cell_type": "raw",
   "id": "f0aa0185-c370-40da-8b90-ddc997b5b1e1",
   "metadata": {},
   "source": [
    "H0 (null): Flight duration has no effect on ticket price.\n",
    "H1 (alternative): Flight duration affects ticket price (they are correlated)."
   ]
  },
  {
   "cell_type": "code",
   "execution_count": null,
   "id": "cde55fa1-9258-4429-9552-6789c57f1f99",
   "metadata": {},
   "outputs": [],
   "source": [
    "# Convert duration (\"HH:MM:SS\") → total minutes\n",
    "df['duration'] = (\n",
    "    pd.to_timedelta(df['duration']).dt.total_seconds() / 60\n",
    ")\n",
    "\n",
    "# Keep relevant columns\n",
    "df = df[['airline', 'duration', 'price']]\n",
    "\n",
    "# Remove invalid rows (zero or null durations/prices)\n",
    "df = df[(df['duration'] > 0) & (df['price'] > 0)]\n",
    "\n",
    "df.head()"
   ]
  },
  {
   "cell_type": "raw",
   "id": "b44655f0-bceb-4573-b6b0-28de26dd515b",
   "metadata": {},
   "source": [
    "Visualization of flight duration relates to ticket price"
   ]
  },
  {
   "cell_type": "raw",
   "id": "a9165a9a-bd70-4d21-b70e-422b5b500e1a",
   "metadata": {},
   "source": [
    "A hexbin plot shows the density of observations (300k rows)"
   ]
  },
  {
   "cell_type": "code",
   "execution_count": null,
   "id": "8b513ce1-47e9-4d30-bdaf-119dd3c1879c",
   "metadata": {},
   "outputs": [],
   "source": [
    "plt.figure(figsize=(8,6))\n",
    "plt.hexbin(df['duration'], df['price'], gridsize=50, cmap='viridis', bins='log')\n",
    "plt.colorbar(label='log10(Number of flights)')\n",
    "plt.title(\"Price vs Duration\")\n",
    "plt.xlabel(\"Duration (minutes)\")\n",
    "plt.ylabel(\"Price (INR)\")\n",
    "plt.tight_layout()\n",
    "plt.show()"
   ]
  },
  {
   "cell_type": "code",
   "execution_count": null,
   "id": "769ea076-6e5f-484f-8ddd-b7115f9f6488",
   "metadata": {},
   "outputs": [],
   "source": [
    "# Bin durations\n",
    "bins = [0, 60, 120, 180, 240, 300, 600, 1000]\n",
    "labels = ['<1h', '1–2h', '2–3h', '3–4h', '4–5h', '5–10h', '>10h']\n",
    "df['duration_bin'] = pd.cut(df['duration'], bins=bins, labels=labels)\n",
    "\n",
    "plt.figure(figsize=(10,6))\n",
    "sns.boxplot(x='duration_bin', y='price', data=df, showfliers=False)\n",
    "plt.title(\"Ticket Prices by Flight Duration Category\")\n",
    "plt.xlabel(\"Duration Category\")\n",
    "plt.ylabel(\"Price (INR)\")\n",
    "plt.tight_layout()\n",
    "plt.show()\n"
   ]
  },
  {
   "cell_type": "code",
   "execution_count": null,
   "id": "84dd6495-1700-40ac-b0f0-6e5de0d2e17e",
   "metadata": {},
   "outputs": [],
   "source": [
    "from scipy.stats import pearsonr, spearmanr\n",
    "\n",
    "# Pearson correlation (linear)\n",
    "pearson_r, pearson_p = pearsonr(df['duration'], df['price'])\n",
    "# Spearman correlation (monotonic)\n",
    "spearman_r, spearman_p = spearmanr(df['duration'], df['price'])\n",
    "\n",
    "print(f\"Pearson r = {pearson_r:.3f} (p = {pearson_p:.3e})\")\n",
    "print(f\"Spearman r = {spearman_r:.3f} (p = {spearman_p:.3e})\")"
   ]
  },
  {
   "cell_type": "raw",
   "id": "6de328d4-7170-4d15-b5cb-939ccd042895",
   "metadata": {},
   "source": [
    "Direction: Both correlation coefficients are positive, meaning as flight duration increases, ticket price also tends to increase.\n",
    "\n",
    "Strength:\n",
    "\n",
    "Pearson (0.204) suggests a weak linear relationship.\n",
    "\n",
    "Spearman (0.319) shows a stronger monotonic trend, implying that the relationship might not be perfectly linear (e.g., price grows faster on long-haul flights).\n",
    "\n",
    "Significance: p-value ≈ 0 means the probability this relationship occurred by chance is practically zero — it’s real and statistically significant."
   ]
  },
  {
   "cell_type": "raw",
   "id": "406bf769-b6e7-4eb4-9bf5-53ff2a144ed2",
   "metadata": {},
   "source": [
    "There is a statistically significant positive relationship between flight duration and ticket price, though the strength of the correlation is moderate, suggesting that while duration affects price, other factors also influence it."
   ]
  },
  {
   "cell_type": "code",
   "execution_count": null,
   "id": "e7b6f387-3c4d-4660-b197-016d230e47d8",
   "metadata": {},
   "outputs": [],
   "source": []
  },
  {
   "cell_type": "raw",
   "id": "816a05f0-2b34-48db-9b8b-a2dd8260e1d1",
   "metadata": {},
   "source": [
    "Do direct flights cost more than connecting flights?\n",
    "\n",
    "H0 (Null): There is no difference in average prices between direct and connecting flights.\n",
    "H1 (Alt): Direct flights are more expensive than connecting flights."
   ]
  },
  {
   "cell_type": "code",
   "execution_count": null,
   "id": "075de6ba-bf8e-45f9-8b34-6ee130cbbeb7",
   "metadata": {},
   "outputs": [],
   "source": [
    "df = pd.read_csv(config['data']['clean_data']['full_clean'], sep=\";\")"
   ]
  },
  {
   "cell_type": "code",
   "execution_count": null,
   "id": "78316a7e-4471-45ff-a279-7ed6a220ee06",
   "metadata": {},
   "outputs": [],
   "source": [
    "df['stops'] = df['stops'].replace('2+', '2')"
   ]
  },
  {
   "cell_type": "code",
   "execution_count": null,
   "id": "6d4bffc8-30b8-4fbb-bbb4-af479e1eadb5",
   "metadata": {},
   "outputs": [],
   "source": [
    "# Keep relevant columns\n",
    "df_stops = df[['stops', 'price']].copy()\n",
    "\n",
    "# Ensure 'stops' is numeric\n",
    "df_stops['stops'] = pd.to_numeric(df_stops['stops'], errors='coerce')\n",
    "\n",
    "# Drop missing or invalid values\n",
    "df_stops = df_stops.dropna(subset=['stops', 'price'])"
   ]
  },
  {
   "cell_type": "code",
   "execution_count": null,
   "id": "e538e84c-60f8-47a8-bec0-3e4d419e266e",
   "metadata": {},
   "outputs": [],
   "source": [
    "plt.figure(figsize=(7,5))\n",
    "sns.boxplot(x='stops', y='price', data=df_stops)\n",
    "plt.title(\"Ticket Prices by Number of Stops\")\n",
    "plt.xlabel(\"Number of Stops\")\n",
    "plt.ylabel(\"Price (INR)\")\n",
    "plt.tight_layout()\n",
    "plt.show()"
   ]
  },
  {
   "cell_type": "code",
   "execution_count": null,
   "id": "1bd14b56-dc22-44d1-87f8-1835484fa1e7",
   "metadata": {},
   "outputs": [],
   "source": [
    "price_by_stops = df_stops.groupby('stops')['price'].describe()[['mean','std','count']]\n",
    "print(price_by_stops)"
   ]
  },
  {
   "cell_type": "raw",
   "id": "883dcab7-b44f-4ba5-960e-545157aaf952",
   "metadata": {},
   "source": [
    "One-way ANOVA for 3 groups"
   ]
  },
  {
   "cell_type": "code",
   "execution_count": null,
   "id": "4ba43bfc-e060-4609-acc1-93aebce46f37",
   "metadata": {},
   "outputs": [],
   "source": [
    "# Ensure stops are numeric\n",
    "df['stops'] = pd.to_numeric(df['stops'], errors='coerce')\n",
    "\n",
    "# Create separate groups\n",
    "price_0 = df.loc[df['stops'] == 0, 'price']\n",
    "price_1 = df.loc[df['stops'] == 1, 'price']\n",
    "price_2 = df.loc[df['stops'] == 2, 'price']\n",
    "\n",
    "print(f\"0 stops: {len(price_0)} flights\")\n",
    "print(f\"1 stop:  {len(price_1)} flights\")\n",
    "print(f\"2 stops: {len(price_2)} flights\")"
   ]
  },
  {
   "cell_type": "code",
   "execution_count": null,
   "id": "43e0b28f-fee9-46b9-87f7-9e461cf47560",
   "metadata": {},
   "outputs": [],
   "source": [
    "anova_stat, anova_p = stats.f_oneway(price_0, price_1, price_2)\n",
    "print(f\"ANOVA F-statistic: {anova_stat:.3f}, p-value: {anova_p:.3e}\")"
   ]
  },
  {
   "cell_type": "raw",
   "id": "b32c7286-624c-4232-9243-10fa4fc34dbb",
   "metadata": {},
   "source": [
    "If p < 0.05, reject H₀ → there are significant price differences among the 3 stop categories."
   ]
  },
  {
   "cell_type": "code",
   "execution_count": null,
   "id": "40410f8a-e13d-4ac1-926a-f3cb3ee99102",
   "metadata": {},
   "outputs": [],
   "source": []
  },
  {
   "cell_type": "raw",
   "id": "31b81a71-fbf6-4165-ba22-9ea17acd7dbc",
   "metadata": {},
   "source": [
    "Does ticket price vary between travel classes?"
   ]
  },
  {
   "cell_type": "raw",
   "id": "eae99fb9-de56-4dba-a37a-f0168048c4a0",
   "metadata": {},
   "source": [
    "H0 (Null): There is no difference in price between Economy and Business classes.\n",
    "H1 (Alt): Business class tickets are more expensive."
   ]
  },
  {
   "cell_type": "code",
   "execution_count": null,
   "id": "e50b74b2-c655-4de3-9a62-ae10d4f5b7ab",
   "metadata": {},
   "outputs": [],
   "source": [
    "df_class = df[['class', 'price']].copy()\n",
    "df_class['class'] = df_class['class'].str.strip().str.capitalize()\n",
    "df_class = df_class.dropna(subset=['class', 'price'])"
   ]
  },
  {
   "cell_type": "code",
   "execution_count": null,
   "id": "cd533863-f8f2-4a29-b9ce-f6df8a396624",
   "metadata": {},
   "outputs": [],
   "source": [
    "plt.figure(figsize=(6,5))\n",
    "sns.boxplot(x='class', y='price', data=df_class)\n",
    "plt.title(\"Ticket Price by Travel Class\")\n",
    "plt.xlabel(\"Class\")\n",
    "plt.ylabel(\"Price (INR)\")\n",
    "plt.tight_layout()\n",
    "plt.show()"
   ]
  },
  {
   "cell_type": "code",
   "execution_count": null,
   "id": "6e1d4451-c95d-42b8-871d-1c6562ae49a4",
   "metadata": {},
   "outputs": [],
   "source": [
    "plt.figure(figsize=(7,5))\n",
    "sns.barplot(x='class', y='price', data=df, ci=95, palette='pastel', capsize=0.2)\n",
    "plt.title(\"Average Price by Class (with 95% CI)\")\n",
    "plt.xlabel(\"Travel Class\")\n",
    "plt.ylabel(\"Mean Price (INR)\")\n",
    "plt.tight_layout()\n",
    "plt.show()"
   ]
  },
  {
   "cell_type": "code",
   "execution_count": null,
   "id": "5d988aa5-eb78-4ff3-9ce9-4a3502ec9686",
   "metadata": {},
   "outputs": [],
   "source": [
    "plt.figure(figsize=(8,5))\n",
    "sns.kdeplot(df[df['class'] == 'Economy']['price'], label='Economy', fill=True)\n",
    "sns.kdeplot(df[df['class'] == 'Business']['price'], label='Business', fill=True)\n",
    "plt.title(\"Distribution of Ticket Prices by Class\")\n",
    "plt.xlabel(\"Price (INR)\")\n",
    "plt.ylabel(\"Density\")\n",
    "plt.legend()\n",
    "plt.tight_layout()\n",
    "plt.show()\n"
   ]
  },
  {
   "cell_type": "code",
   "execution_count": null,
   "id": "df3f393b-0710-44e9-b310-236c32f51005",
   "metadata": {},
   "outputs": [],
   "source": [
    "price_by_class = df_class.groupby('class')['price'].describe()[['mean','std','count']]\n",
    "print(price_by_class)"
   ]
  },
  {
   "cell_type": "code",
   "execution_count": null,
   "id": "20cef16a-ad79-441e-b834-327e540ef1e4",
   "metadata": {},
   "outputs": [],
   "source": [
    "economy = df_class.loc[df_class['class'] == 'Economy', 'price']\n",
    "business = df_class.loc[df_class['class'] == 'Business', 'price']\n",
    "\n",
    "t_stat, p_value = stats.ttest_ind(economy, business, equal_var=False)\n",
    "print(f\"T-statistic: {t_stat:.3f}, p-value: {p_value:.3e}\")"
   ]
  },
  {
   "cell_type": "raw",
   "id": "fe835d06-3265-4d37-82a7-bcfd50c861a4",
   "metadata": {},
   "source": [
    "p < 0.05: Statistically significant difference in average prices.\n",
    "\n",
    "The mean for Business class is expected to be much higher."
   ]
  }
 ],
 "metadata": {
  "kernelspec": {
   "display_name": "Python [conda env:base] *",
   "language": "python",
   "name": "conda-base-py"
  },
  "language_info": {
   "codemirror_mode": {
    "name": "ipython",
    "version": 3
   },
   "file_extension": ".py",
   "mimetype": "text/x-python",
   "name": "python",
   "nbconvert_exporter": "python",
   "pygments_lexer": "ipython3",
   "version": "3.13.5"
  }
 },
 "nbformat": 4,
 "nbformat_minor": 5
}
