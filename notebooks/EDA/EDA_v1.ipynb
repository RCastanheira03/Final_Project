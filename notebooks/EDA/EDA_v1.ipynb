{
 "cells": [
  {
   "cell_type": "code",
   "execution_count": null,
   "id": "1651e733-bf3b-4a0e-8316-0e44ce1dc268",
   "metadata": {},
   "outputs": [],
   "source": [
    "import pandas as pd\n",
    "import matplotlib.pyplot as plt\n",
    "import seaborn as sns\n",
    "import numpy as np\n",
    "import yaml\n",
    "import sys\n",
    "import os\n",
    "from datetime import datetime, timedelta\n",
    "\n",
    "project_root = os.path.abspath(os.path.join(os.getcwd(), '../..'))\n",
    "\n",
    "if project_root not in sys.path:\n",
    "    sys.path.append(project_root)\n",
    "\n",
    "from functions import detect_outliers_iqr\n",
    "\n",
    "try:\n",
    "    with open(\"../../config.yaml\", \"r\") as file:\n",
    "        config = yaml.safe_load(file)\n",
    "\n",
    "    df = pd.read_csv(config['data']['clean_data']['full_clean'], sep=\";\")\n",
    "\n",
    "except:\n",
    "    print(\"Yaml configuration file not found!\")"
   ]
  },
  {
   "cell_type": "code",
   "execution_count": null,
   "id": "b660ffb4-0201-414a-86f0-cde943b79277",
   "metadata": {},
   "outputs": [],
   "source": [
    "df.head()"
   ]
  },
  {
   "cell_type": "code",
   "execution_count": null,
   "id": "bd093794-f92c-4d60-8310-200da218c50c",
   "metadata": {},
   "outputs": [],
   "source": [
    "df.shape"
   ]
  },
  {
   "cell_type": "code",
   "execution_count": null,
   "id": "5302cc37-b848-474d-a33b-3b10ae141a67",
   "metadata": {},
   "outputs": [],
   "source": [
    "df.dtypes"
   ]
  },
  {
   "cell_type": "code",
   "execution_count": null,
   "id": "1b8fbfe1-e61b-4a53-9f9a-b5a7c9101707",
   "metadata": {},
   "outputs": [],
   "source": [
    "df.duplicated().any()"
   ]
  },
  {
   "cell_type": "code",
   "execution_count": null,
   "id": "1afcdef1-f0f4-4148-bbd0-3a5eb563b360",
   "metadata": {},
   "outputs": [],
   "source": [
    "df.isnull().any()"
   ]
  },
  {
   "cell_type": "code",
   "execution_count": null,
   "id": "039ae484-51fd-4cb0-b743-60a75ecad860",
   "metadata": {},
   "outputs": [],
   "source": [
    "df[\"airline\"].unique()"
   ]
  },
  {
   "cell_type": "raw",
   "id": "363b7757-66ef-4595-845b-40cd6d542f75",
   "metadata": {},
   "source": [
    "Question 1: Do average ticket prices differ between airlines on flights with no stops?\n",
    "\n",
    "Null hypothesis (H0): mean price is equal across all airlines.\n",
    "Alternative (H1): at least one airline has a different mean price."
   ]
  },
  {
   "cell_type": "raw",
   "id": "4f9d6c7d-76e8-4c17-bd61-af9278454913",
   "metadata": {},
   "source": [
    "Checking if what type of class ticket each airline sells"
   ]
  },
  {
   "cell_type": "code",
   "execution_count": null,
   "id": "d2cef41f-7ccd-4dd4-a4d6-bc73a107ec3b",
   "metadata": {},
   "outputs": [],
   "source": [
    "df['class'].value_counts()\n",
    "df.groupby('airline')['class'].unique()"
   ]
  },
  {
   "cell_type": "raw",
   "id": "1ec001ce-0b80-4988-a8fd-eaadc5661bcd",
   "metadata": {},
   "source": [
    "As only two companies sell Business class tickets, we will only analyze prices that are in Economy class."
   ]
  },
  {
   "cell_type": "raw",
   "id": "204eba8f-6a28-4e3b-9f40-79aaece7e2ed",
   "metadata": {},
   "source": [
    "At this stage however, we are considering flights with no stops, 1 stop or 2+ stops, which may affect the results.\n",
    "We therefore have to analyze each case separately."
   ]
  },
  {
   "cell_type": "code",
   "execution_count": null,
   "id": "af7f9a1d-7f89-46c9-8f9b-9da6f2d40286",
   "metadata": {},
   "outputs": [],
   "source": [
    "#Flights with no stops\n",
    "df_nonstop = df[(df['class'] == 'Economy') & (df['stops'] == '0')]\n",
    "df_nonstop"
   ]
  },
  {
   "cell_type": "code",
   "execution_count": null,
   "id": "c769b6aa-3d3c-4398-a58e-2063d371dc67",
   "metadata": {},
   "outputs": [],
   "source": [
    "#Summary statistics of all airlines by price, flights with 0 stops.\n",
    "df_nonstop.groupby('airline')['price'].agg(['count', 'mean', 'median', 'std', 'min', 'max'])"
   ]
  },
  {
   "cell_type": "code",
   "execution_count": null,
   "id": "fe4e8a9e-30a5-4b2a-ba55-d72c51a88adc",
   "metadata": {},
   "outputs": [],
   "source": [
    "#Flights with 1 stop\n",
    "df_1stop = df[(df['class'] == 'Economy') & (df['stops'] == '1')]\n",
    "df_1stop.groupby('airline')['price'].agg(['count', 'mean', 'median', 'std', 'min', 'max'])"
   ]
  },
  {
   "cell_type": "code",
   "execution_count": null,
   "id": "fab2578c-6f5a-40c3-848d-02a8f19c4b6a",
   "metadata": {},
   "outputs": [],
   "source": [
    "#Flights with 2 or more stops\n",
    "df_2more_stop = df[(df['class'] == 'Economy') & (df['stops'] == '2+')]\n",
    "df_2more_stop.groupby('airline')['price'].agg(['count', 'mean', 'median', 'std', 'min', 'max'])"
   ]
  },
  {
   "cell_type": "code",
   "execution_count": null,
   "id": "c3799cb1-5052-401b-8967-c83c0540cd10",
   "metadata": {},
   "outputs": [],
   "source": []
  },
  {
   "cell_type": "raw",
   "id": "5f8c9404-496a-4f36-860c-29ff8d522f58",
   "metadata": {},
   "source": [
    "Detecting Outliers in Price data (Flights with 0 stops)"
   ]
  },
  {
   "cell_type": "code",
   "execution_count": null,
   "id": "7d9c8634-9f78-4714-9fab-952c0b3fb1c6",
   "metadata": {},
   "outputs": [],
   "source": [
    "plt.figure(figsize=(10,6))\n",
    "sns.boxplot(data=df_nonstop, x='airline', y='price')\n",
    "plt.xticks(rotation=45)\n",
    "plt.title('Price Distribution by Airline (Detecting Outliers)')\n",
    "plt.show()"
   ]
  },
  {
   "cell_type": "code",
   "execution_count": null,
   "id": "59237859-f15e-4f97-af1e-4337010fef45",
   "metadata": {},
   "outputs": [],
   "source": [
    "outliers = df_nonstop.groupby('airline', group_keys=False).apply(detect_outliers_iqr)\n",
    "print(f\"Total outliers detected: {len(outliers)}\")\n",
    "\n",
    "outliers.head()"
   ]
  },
  {
   "cell_type": "code",
   "execution_count": null,
   "id": "c4856fd7-da02-42aa-926c-98e02548f210",
   "metadata": {},
   "outputs": [],
   "source": [
    "print(f\"Outlier percentage: {len(outliers) / len(df_nonstop):.2%}\")"
   ]
  },
  {
   "cell_type": "raw",
   "id": "75a5b07a-1545-4f56-a863-258e70174106",
   "metadata": {},
   "source": [
    "Outliers are a small portion (<5%), they likely won’t heavily bias results"
   ]
  },
  {
   "cell_type": "code",
   "execution_count": null,
   "id": "69e0bb53-3502-429a-89e5-6f7f95e8cb39",
   "metadata": {},
   "outputs": [],
   "source": []
  },
  {
   "cell_type": "code",
   "execution_count": null,
   "id": "1d85e6e7-68c8-4989-a634-c5eacdd3a25a",
   "metadata": {},
   "outputs": [],
   "source": [
    "from scipy.stats import shapiro, levene\n",
    "\n",
    "# normality test (Shapiro–Wilk per airline)\n",
    "for name, group in df_nonstop.groupby('airline'):\n",
    "    stat, p = shapiro(group['price'])\n",
    "    print(f\"{name}: p(normality) = {p:.4f}\")\n",
    "\n",
    "# homogeneity of variances (Levene’s test)\n",
    "stat, p = levene(*[group['price'] for _, group in df_nonstop.groupby('airline')])\n",
    "print(f\"Levene’s test for equal variances: p = {p:.4f}\")"
   ]
  },
  {
   "cell_type": "raw",
   "id": "df0dabcf-c42c-49f3-971f-bc4d80c58568",
   "metadata": {},
   "source": [
    "Both tests fail (p < 0.05) which means distributions are not normal or have unequal variances. Therefore we use Kruskal–Wallis."
   ]
  },
  {
   "cell_type": "code",
   "execution_count": null,
   "id": "ca377514-12f8-4eb8-8356-3048fa1d77db",
   "metadata": {},
   "outputs": [],
   "source": []
  },
  {
   "cell_type": "raw",
   "id": "c051852d-0d24-434c-a2eb-8206d2d656a1",
   "metadata": {},
   "source": [
    "Visualizing without outliers"
   ]
  },
  {
   "cell_type": "code",
   "execution_count": null,
   "id": "b5327444-4e18-491b-8ea1-63339e97d65b",
   "metadata": {},
   "outputs": [],
   "source": [
    "sns.boxplot(data=df_nonstop[~df_nonstop.index.isin(outliers.index)], x='airline', y='price')\n",
    "plt.xticks(rotation=45)\n",
    "plt.title('Price Distribution by Airline (without Outliers)')\n",
    "plt.show()"
   ]
  },
  {
   "cell_type": "raw",
   "id": "c64f5ae3-46e4-4d06-afd4-c5abb34aeeca",
   "metadata": {},
   "source": []
  },
  {
   "cell_type": "code",
   "execution_count": null,
   "id": "58bccb87-ad0f-4946-a222-9c7a9926f512",
   "metadata": {},
   "outputs": [],
   "source": [
    "from scipy.stats import kruskal\n",
    "groups = [group['price'] for _, group in df_nonstop.groupby('airline')]\n",
    "stat, p = kruskal(*groups)\n",
    "print(f\"Kruskal–Wallis test (with outliers): p = {p:.4f}\")"
   ]
  },
  {
   "cell_type": "code",
   "execution_count": null,
   "id": "6398b793-46bf-4aa7-8704-14707d417325",
   "metadata": {},
   "outputs": [],
   "source": [
    "df_no_outliers = df_nonstop[~df_nonstop.index.isin(outliers.index)]\n",
    "groups_no = [group['price'] for _, group in df_no_outliers.groupby('airline')]\n",
    "stat_no, p_no = kruskal(*groups_no)\n",
    "print(f\"Kruskal–Wallis test (without outliers): p = {p_no:.4f}\")"
   ]
  },
  {
   "cell_type": "raw",
   "id": "98a77df4-8ba9-473a-85c0-82ba791ece19",
   "metadata": {},
   "source": [
    "Decision rule:\n",
    "If p < 0.05, reject H0.\n",
    "\n",
    "Interpretation:\n",
    "There is a statistically significant difference in average ticket prices between airlines."
   ]
  },
  {
   "cell_type": "code",
   "execution_count": null,
   "id": "6b2f69c3-dbca-4d40-8d96-c818c4d60bf7",
   "metadata": {},
   "outputs": [],
   "source": [
    "# Compute mean price per airline\n",
    "mean_prices = df_nonstop.groupby('airline')['price'].mean().reset_index()\n",
    "\n",
    "# Sort by mean price (optional, for readability)\n",
    "mean_prices = mean_prices.sort_values('price', ascending=False)\n",
    "\n",
    "# Plot\n",
    "plt.figure(figsize=(10,6))\n",
    "sns.barplot(data=mean_prices, x='airline', y='price', palette='viridis')\n",
    "\n",
    "plt.title('Mean Ticket Price by Airline')\n",
    "plt.xlabel('Airline')\n",
    "plt.ylabel('Mean Price (€ or $)')\n",
    "plt.xticks(rotation=45)\n",
    "plt.tight_layout()\n",
    "plt.show()\n"
   ]
  },
  {
   "cell_type": "raw",
   "id": "2e1bb72e-a6a9-4bbb-93e9-72664f34d790",
   "metadata": {},
   "source": [
    "Same test for flights with 1 stop."
   ]
  },
  {
   "cell_type": "raw",
   "id": "33dfbae5-00cb-4464-9bd8-98c9365c6606",
   "metadata": {},
   "source": [
    "Detecting Outliers in Price data (Flights with 1 stops)"
   ]
  },
  {
   "cell_type": "code",
   "execution_count": null,
   "id": "76203a1b-ef25-49f9-be7c-d4234a9fb9ac",
   "metadata": {},
   "outputs": [],
   "source": [
    "plt.figure(figsize=(10,6))\n",
    "sns.boxplot(data=df_1stop, x='airline', y='price')\n",
    "plt.xticks(rotation=45)\n",
    "plt.title('Price Distribution by Airline 1-stop (Detecting Outliers)')\n",
    "plt.show()"
   ]
  },
  {
   "cell_type": "code",
   "execution_count": null,
   "id": "a22e953d-5482-494e-9830-3881bff65f4d",
   "metadata": {},
   "outputs": [],
   "source": [
    "outliers = df_1stop.groupby('airline', group_keys=False).apply(detect_outliers_iqr)\n",
    "\n",
    "print(f\"Total outliers detected: {len(outliers)}\")\n",
    "outliers.head()"
   ]
  },
  {
   "cell_type": "code",
   "execution_count": null,
   "id": "1b7e9e73-f216-4ff5-8c07-90f1313974a4",
   "metadata": {},
   "outputs": [],
   "source": [
    "print(f\"Outlier percentage: {len(outliers) / len(df_nonstop):.2%}\")"
   ]
  },
  {
   "cell_type": "raw",
   "id": "73f86815-8f63-4e5f-89d3-bef19b15b18d",
   "metadata": {},
   "source": [
    "Outlier percentage is extremely high, let's investigate further."
   ]
  },
  {
   "cell_type": "code",
   "execution_count": null,
   "id": "3fb3df63-b28a-49e6-8bb1-d72e68b82f6f",
   "metadata": {},
   "outputs": [],
   "source": [
    "outliers_summary = outliers.groupby('airline')['price'].describe()\n",
    "outliers_summary"
   ]
  },
  {
   "cell_type": "raw",
   "id": "9995bd35-cf2b-4c10-a210-c9f276a1ecca",
   "metadata": {},
   "source": [
    "Checking the percentage of flights that were made 7 or less days prior to the flight"
   ]
  },
  {
   "cell_type": "code",
   "execution_count": null,
   "id": "4e7e9606-2a7e-41fe-9932-449f08891dc5",
   "metadata": {},
   "outputs": [],
   "source": [
    "# total rows\n",
    "total_rows = len(df_nonstop)\n",
    "\n",
    "# number of rows where lead_time_days < 7\n",
    "last_minute = len(df_nonstop[df_nonstop['lead_time_days'] < 15])\n",
    "\n",
    "# percentage\n",
    "percentage_last_minute = (last_minute / total_rows) * 100\n",
    "\n",
    "print(f\"Percentage of bookings made less than 7 days before departure: {percentage_last_minute:.2f}%\")"
   ]
  },
  {
   "cell_type": "code",
   "execution_count": null,
   "id": "55ca0a61-25f5-4696-aa7e-a87a48fc2999",
   "metadata": {},
   "outputs": [],
   "source": [
    "leadtime_summary = (\n",
    "    df_nonstop\n",
    "    .assign(last_minute=df_nonstop['lead_time_days'] < 7)\n",
    "    .groupby('airline')['last_minute']\n",
    "    .mean()\n",
    "    .mul(100)\n",
    "    .reset_index()\n",
    "    .rename(columns={'last_minute': 'percent_lt7days'})\n",
    ")\n",
    "\n",
    "leadtime_summary.sort_values('percent_lt7days', ascending=False)"
   ]
  },
  {
   "cell_type": "code",
   "execution_count": null,
   "id": "1fe7a425-d9aa-40db-a9ff-7aee331a8b24",
   "metadata": {},
   "outputs": [],
   "source": [
    "plt.figure(figsize=(10,6))\n",
    "sns.lmplot(\n",
    "    data=df_nonstop,\n",
    "    x='lead_time_days',\n",
    "    y='price',\n",
    "    hue='airline',\n",
    "    lowess=True,\n",
    "    height=6,\n",
    "    aspect=1.5,\n",
    "    scatter=False,\n",
    "    palette='husl'\n",
    ")\n",
    "\n",
    "plt.title('Average Price Trend by Lead Time (Smoothed)')\n",
    "plt.xlabel('Lead Time (days)')\n",
    "plt.ylabel('Ticket Price')\n",
    "plt.tight_layout()\n",
    "plt.show()\n"
   ]
  },
  {
   "cell_type": "raw",
   "id": "dc32c27b-3e4c-4693-acc9-054bff2f35ea",
   "metadata": {},
   "source": [
    "Visual analysis confirms a clear negative relationship between booking lead time and ticket price.\n",
    "Flights booked within a week of departure show consistently higher prices across all airlines, contributing partly to the high-price outliers detected earlier.\n",
    "However, since last-minute bookings represent only 8.9% of all observations, additional factors such as airline pricing strategies and route differences likely explain the remaining variability."
   ]
  },
  {
   "cell_type": "code",
   "execution_count": null,
   "id": "0777b722-ff25-44d9-8958-6b29a550acde",
   "metadata": {},
   "outputs": [],
   "source": []
  },
  {
   "cell_type": "code",
   "execution_count": null,
   "id": "305d2cd6-faa9-41ce-b565-bb8746cec079",
   "metadata": {},
   "outputs": [],
   "source": [
    "groups = [group['price'] for _, group in df_1stop.groupby('airline')]\n",
    "stat, p = kruskal(*groups)\n",
    "print(f\"Kruskal–Wallis test (with outliers): p = {p:.4f}\")"
   ]
  },
  {
   "cell_type": "code",
   "execution_count": null,
   "id": "f5b95cb5-b51e-491b-b378-851460f9630b",
   "metadata": {},
   "outputs": [],
   "source": []
  },
  {
   "cell_type": "raw",
   "id": "a8f636f1-455e-4f31-8646-c81af055680e",
   "metadata": {},
   "source": [
    "Decision rule:\n",
    "If p < 0.05, reject H0.\n",
    "\n",
    "Interpretation:\n",
    "There is a statistically significant difference in average ticket prices between airlines."
   ]
  },
  {
   "cell_type": "code",
   "execution_count": null,
   "id": "afdd019b-266f-4a94-b4c1-d3afe733d72c",
   "metadata": {},
   "outputs": [],
   "source": []
  },
  {
   "cell_type": "code",
   "execution_count": null,
   "id": "d4e53ecf-f67f-4ed5-8d28-99f05f789df7",
   "metadata": {},
   "outputs": [],
   "source": [
    "# With outliers\n",
    "groups_full = [group['price'] for _, group in df_nonstop.groupby('airline')]\n",
    "stat_full, p_full = kruskal(*groups_full)\n",
    "\n",
    "# Without outliers\n",
    "df_no_outliers = df_nonstop[~df_nonstop.index.isin(outliers.index)]\n",
    "groups_no = [group['price'] for _, group in df_no_outliers.groupby('airline')]\n",
    "stat_no, p_no = kruskal(*groups_no)\n",
    "\n",
    "print(f\"With outliers:  p = {p_full:.4f}\")\n",
    "print(f\"Without outliers: p = {p_no:.4f}\")"
   ]
  },
  {
   "cell_type": "raw",
   "id": "2f30e5b0-b91c-4872-a16b-bf88b2e88d03",
   "metadata": {},
   "source": [
    "Outliers don’t change the finding that airline prices differ significantly."
   ]
  },
  {
   "cell_type": "code",
   "execution_count": null,
   "id": "a814f71c-806f-4979-b824-e8857d64eabf",
   "metadata": {},
   "outputs": [],
   "source": []
  },
  {
   "cell_type": "code",
   "execution_count": null,
   "id": "2e40cc87-3fc0-4119-8804-61b851e89e53",
   "metadata": {},
   "outputs": [],
   "source": [
    "# Compute mean price per airline\n",
    "mean_prices = df_1stop.groupby('airline')['price'].mean().reset_index()\n",
    "\n",
    "# Sort by mean price (optional, for readability)\n",
    "mean_prices = mean_prices.sort_values('price', ascending=False)\n",
    "\n",
    "# Plot\n",
    "plt.figure(figsize=(10,6))\n",
    "sns.barplot(data=mean_prices, x='airline', y='price', palette='viridis')\n",
    "\n",
    "plt.title('Mean Ticket Price by Airline')\n",
    "plt.xlabel('Airline')\n",
    "plt.ylabel('Mean Price')\n",
    "plt.xticks(rotation=45)\n",
    "plt.tight_layout()\n",
    "plt.show()\n"
   ]
  },
  {
   "cell_type": "code",
   "execution_count": null,
   "id": "46ffe7a6-1459-410b-83bf-25c0a10326ac",
   "metadata": {},
   "outputs": [],
   "source": []
  },
  {
   "cell_type": "raw",
   "id": "725e33df-c21a-4135-93ce-ed0e95345e85",
   "metadata": {},
   "source": [
    "Same test for flights with 2 stops."
   ]
  },
  {
   "cell_type": "raw",
   "id": "a8ec86fa-9e42-455f-9c39-3936a580aaeb",
   "metadata": {},
   "source": [
    "Detecting Outliers in Price data (Flights with 2 stops)"
   ]
  },
  {
   "cell_type": "code",
   "execution_count": null,
   "id": "b9883e34-f6c7-432b-9cb4-29f3de6f43d5",
   "metadata": {},
   "outputs": [],
   "source": [
    "plt.figure(figsize=(10,6))\n",
    "sns.boxplot(data=df_2more_stop, x='airline', y='price')\n",
    "plt.xticks(rotation=45)\n",
    "plt.title('Price Distribution by Airline 1-stop (Detecting Outliers)')\n",
    "plt.show()"
   ]
  },
  {
   "cell_type": "code",
   "execution_count": null,
   "id": "f2dc3aa5-e193-431c-8813-a6925a3a40cc",
   "metadata": {},
   "outputs": [],
   "source": [
    "# normality test (Shapiro–Wilk per airline)\n",
    "for name, group in df_2more_stop.groupby('airline'):\n",
    "    stat, p = shapiro(group['price'])\n",
    "    print(f\"{name}: p(normality) = {p:.4f}\")\n",
    "\n",
    "# homogeneity of variances (Levene’s test)\n",
    "stat, p = levene(*[group['price'] for _, group in df_2more_stop.groupby('airline')])\n",
    "print(f\"Levene’s test for equal variances: p = {p:.4f}\")"
   ]
  },
  {
   "cell_type": "code",
   "execution_count": null,
   "id": "c7915c11-98cb-4251-951e-84956187b30e",
   "metadata": {},
   "outputs": [],
   "source": [
    "outliers = df_1stop.groupby('airline', group_keys=False).apply(detect_outliers_iqr)\n",
    "\n",
    "print(f\"Total outliers detected: {len(outliers)}\")"
   ]
  },
  {
   "cell_type": "code",
   "execution_count": null,
   "id": "1bc01d01-fe12-4dce-b6ad-d9cf76184766",
   "metadata": {},
   "outputs": [],
   "source": [
    "groups = [group['price'] for _, group in df_2more_stop.groupby('airline')]\n",
    "stat, p = kruskal(*groups)\n",
    "print(f\"Kruskal–Wallis test (with outliers): p = {p:.4f}\")"
   ]
  },
  {
   "cell_type": "raw",
   "id": "8175f38b-4467-4de0-9dc9-dd7e4d75ede6",
   "metadata": {},
   "source": [
    "Decision rule:\n",
    "If p < 0.05, reject H0.\n",
    "\n",
    "Interpretation:\n",
    "There is a statistically significant difference in average ticket prices between airlines."
   ]
  },
  {
   "cell_type": "code",
   "execution_count": null,
   "id": "54278846-5ca4-4a69-97c9-1f2501919f33",
   "metadata": {},
   "outputs": [],
   "source": [
    "# Compute mean price per airline\n",
    "mean_prices = df_2more_stop.groupby('airline')['price'].mean().reset_index()\n",
    "\n",
    "# Sort by mean price (optional, for readability)\n",
    "mean_prices = mean_prices.sort_values('price', ascending=False)\n",
    "\n",
    "# Plot\n",
    "plt.figure(figsize=(10,6))\n",
    "sns.barplot(data=mean_prices, x='airline', y='price', palette='viridis')\n",
    "\n",
    "plt.title('Mean Ticket Price by Airline')\n",
    "plt.xlabel('Airline')\n",
    "plt.ylabel('Mean Price (€ or $)')\n",
    "plt.xticks(rotation=45)\n",
    "plt.tight_layout()\n",
    "plt.show()"
   ]
  },
  {
   "cell_type": "code",
   "execution_count": null,
   "id": "c4cb0ef6-1cb7-4489-8ff0-bd1fa57d1843",
   "metadata": {},
   "outputs": [],
   "source": [
    "# With outliers\n",
    "groups_full = [group['price'] for _, group in df_nonstop.groupby('airline')]\n",
    "stat_full, p_full = kruskal(*groups_full)\n",
    "\n",
    "# Without outliers\n",
    "df_no_outliers = df_nonstop[~df_nonstop.index.isin(outliers.index)]\n",
    "groups_no = [group['price'] for _, group in df_no_outliers.groupby('airline')]\n",
    "stat_no, p_no = kruskal(*groups_no)\n",
    "\n",
    "print(f\"With outliers:  p = {p_full:.4f}\")\n",
    "print(f\"Without outliers: p = {p_no:.4f}\")"
   ]
  },
  {
   "cell_type": "code",
   "execution_count": null,
   "id": "8973ad94-c6aa-44bb-b4d8-1c4b247a5889",
   "metadata": {},
   "outputs": [],
   "source": []
  }
 ],
 "metadata": {
  "kernelspec": {
   "display_name": "Python [conda env:base] *",
   "language": "python",
   "name": "conda-base-py"
  },
  "language_info": {
   "codemirror_mode": {
    "name": "ipython",
    "version": 3
   },
   "file_extension": ".py",
   "mimetype": "text/x-python",
   "name": "python",
   "nbconvert_exporter": "python",
   "pygments_lexer": "ipython3",
   "version": "3.13.5"
  }
 },
 "nbformat": 4,
 "nbformat_minor": 5
}
