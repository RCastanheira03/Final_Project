{
 "cells": [
  {
   "cell_type": "code",
   "execution_count": null,
   "id": "1651e733-bf3b-4a0e-8316-0e44ce1dc268",
   "metadata": {},
   "outputs": [],
   "source": [
    "import pandas as pd\n",
    "import matplotlib.pyplot as plt\n",
    "import seaborn as sns\n",
    "import numpy as np\n",
    "import yaml\n",
    "import sys\n",
    "import os\n",
    "from datetime import datetime, timedelta\n",
    "\n",
    "project_root = os.path.abspath(os.path.join(os.getcwd(), '../..'))\n",
    "\n",
    "if project_root not in sys.path:\n",
    "    sys.path.append(project_root)\n",
    "\n",
    "from functions import detect_outliers_iqr\n",
    "\n",
    "try:\n",
    "    with open(\"../../config.yaml\", \"r\") as file:\n",
    "        config = yaml.safe_load(file)\n",
    "\n",
    "    df = pd.read_csv(config['data']['clean_data']['full_clean'], sep=\";\")\n",
    "\n",
    "except:\n",
    "    print(\"Yaml configuration file not found!\")"
   ]
  },
  {
   "cell_type": "raw",
   "id": "07f50152-7335-4747-ae94-1def336afb26",
   "metadata": {},
   "source": [
    "Does ticket price vary based on lead time?"
   ]
  },
  {
   "cell_type": "raw",
   "id": "f0aa0185-c370-40da-8b90-ddc997b5b1e1",
   "metadata": {},
   "source": [
    "H0 (null): There is no relationship between lead time and ticket price.\n",
    "H1 (alternative): Lower lead time (fewer days before departure) is associated with higher ticket prices."
   ]
  },
  {
   "cell_type": "code",
   "execution_count": null,
   "id": "7cbef002-49d4-454f-acab-77660e67fead",
   "metadata": {},
   "outputs": [],
   "source": []
  },
  {
   "cell_type": "raw",
   "id": "82ff8b57-897f-4122-8c1f-7fe97e4997a5",
   "metadata": {},
   "source": [
    "Flights with no stops"
   ]
  },
  {
   "cell_type": "code",
   "execution_count": null,
   "id": "1d5adf2a-88b3-4093-af48-93c7edeeec14",
   "metadata": {},
   "outputs": [],
   "source": [
    "#Flights with no stops\n",
    "df_nonstop = df[(df['class'] == 'Economy') & (df['stops'] == '0')]"
   ]
  },
  {
   "cell_type": "code",
   "execution_count": null,
   "id": "dae60254-f442-4663-b70b-92c83d26a91f",
   "metadata": {},
   "outputs": [],
   "source": [
    "from scipy.stats import spearmanr\n",
    "\n",
    "# Drop NaN or invalid values\n",
    "df_valid = df_nonstop[['lead_time_days', 'price']].dropna()\n",
    "\n",
    "# Spearman correlation\n",
    "corr, pval = spearmanr(df_valid['lead_time_days'], df_valid['price'])\n",
    "\n",
    "print(f\"Spearman correlation = {corr:.3f}\")\n",
    "print(f\"p-value = {pval:.5f}\")\n",
    "\n",
    "if pval < 0.05:\n",
    "    print(\"Reject H0 → There is a statistically significant relationship between lead time and price.\")\n",
    "else:\n",
    "    print(\"Fail to reject H0 → No statistically significant relationship found.\")"
   ]
  },
  {
   "cell_type": "code",
   "execution_count": null,
   "id": "746dd317-4d40-4949-9079-452d16992e48",
   "metadata": {},
   "outputs": [],
   "source": [
    "# --- Detect outliers using your custom function ---\n",
    "outliers = df_nonstop.groupby('airline', group_keys=False).apply(detect_outliers_iqr)\n",
    "outlier_pct = len(outliers) / len(df_nonstop) * 100\n",
    "print(f\"Total outliers detected: {len(outliers)} ({outlier_pct:.2f}%)\")\n",
    "\n",
    "# --- Calculate lead-time percentages ---\n",
    "lt7_pct = (df_nonstop['lead_time_days'] < 7).mean() * 100\n",
    "lt15_pct = (df_nonstop['lead_time_days'] < 15).mean() * 100\n",
    "\n",
    "print(f\"Percentage of bookings made <7 days before departure:  {lt7_pct:.2f}%\")\n",
    "print(f\"Percentage of bookings made <15 days before departure: {lt15_pct:.2f}%\")"
   ]
  },
  {
   "cell_type": "code",
   "execution_count": null,
   "id": "51ca87c4-5a8c-4fe3-a995-23670f3c017f",
   "metadata": {},
   "outputs": [],
   "source": [
    "# --- Check overlap between outliers and short-lead bookings ---\n",
    "df_nonstop = df_nonstop.copy()\n",
    "df_nonstop['is_outlier'] = df_nonstop.index.isin(outliers.index)\n",
    "df_nonstop['short_lead_15'] = df_nonstop['lead_time_days'] < 15\n",
    "\n",
    "# Cross-tab: percentage of outliers within each group\n",
    "cross = pd.crosstab(df_nonstop['short_lead_15'], df_nonstop['is_outlier'], normalize='index') * 100\n",
    "print(\"\\nOutlier rate by lead-time group:\")\n",
    "print(cross)"
   ]
  },
  {
   "cell_type": "code",
   "execution_count": null,
   "id": "2556b916-4e3d-4916-ba26-ef541d29994f",
   "metadata": {},
   "outputs": [],
   "source": [
    "# --- Visualization: Distribution of lead times for outliers vs inliers ---\n",
    "plt.figure(figsize=(10,6))\n",
    "sns.kdeplot(data=df_nonstop, x='lead_time_days', hue='is_outlier', fill=True, common_norm=False, palette={True: 'red', False: 'grey'})\n",
    "plt.title('Distribution of Lead Times for Outliers vs Inliers')\n",
    "plt.xlabel('Lead Time (days)')\n",
    "plt.ylabel('Density')\n",
    "plt.tight_layout()\n",
    "plt.show()"
   ]
  },
  {
   "cell_type": "code",
   "execution_count": null,
   "id": "62308760-0496-4ab1-a6a3-7856a2bf8774",
   "metadata": {},
   "outputs": [],
   "source": [
    "import matplotlib.pyplot as plt\n",
    "import seaborn as sns\n",
    "\n",
    "# --- Aggregate data ---\n",
    "leadtime_summary = (\n",
    "    df_nonstop\n",
    "    .groupby('lead_time_bin')\n",
    "    .agg(\n",
    "        mean_price=('price', 'mean'),\n",
    "        count=('price', 'count')\n",
    "    )\n",
    "    .reset_index()\n",
    ")\n",
    "\n",
    "# --- Create figure ---\n",
    "fig, ax1 = plt.subplots(figsize=(10,6))\n",
    "\n",
    "# Bar plot (booking counts)\n",
    "sns.barplot(\n",
    "    data=leadtime_summary,\n",
    "    x='lead_time_bin',\n",
    "    y='count',\n",
    "    color='lightblue',\n",
    "    ax=ax1\n",
    ")\n",
    "\n",
    "# Add secondary y-axis for mean prices\n",
    "ax2 = ax1.twinx()\n",
    "\n",
    "sns.lineplot(\n",
    "    data=leadtime_summary,\n",
    "    x='lead_time_bin',\n",
    "    y='mean_price',\n",
    "    marker='o',\n",
    "    color='darkblue',\n",
    "    linewidth=2,\n",
    "    ax=ax2\n",
    ")\n",
    "\n",
    "# --- Titles and labels ---\n",
    "ax1.set_title('Average Ticket Price and Booking Volume by Lead-Time Category', fontsize=14)\n",
    "ax1.set_xlabel('Lead Time (days before departure)')\n",
    "ax1.set_ylabel('Number of Bookings', color='steelblue')\n",
    "ax2.set_ylabel('Average Ticket Price', color='darkblue')\n",
    "\n",
    "ax1.tick_params(axis='y', labelcolor='steelblue')\n",
    "ax2.tick_params(axis='y', labelcolor='darkblue')\n",
    "plt.tight_layout()\n",
    "plt.show()"
   ]
  },
  {
   "cell_type": "code",
   "execution_count": null,
   "id": "e53a6a7e-9536-429e-8f3e-a5bc8f20d609",
   "metadata": {},
   "outputs": [],
   "source": []
  }
 ],
 "metadata": {
  "kernelspec": {
   "display_name": "Python [conda env:base] *",
   "language": "python",
   "name": "conda-base-py"
  },
  "language_info": {
   "codemirror_mode": {
    "name": "ipython",
    "version": 3
   },
   "file_extension": ".py",
   "mimetype": "text/x-python",
   "name": "python",
   "nbconvert_exporter": "python",
   "pygments_lexer": "ipython3",
   "version": "3.13.5"
  }
 },
 "nbformat": 4,
 "nbformat_minor": 5
}
