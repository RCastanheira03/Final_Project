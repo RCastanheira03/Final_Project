{
 "cells": [
  {
   "cell_type": "code",
   "execution_count": null,
   "id": "78c77ec0-068c-42c5-af1a-4d541a944680",
   "metadata": {},
   "outputs": [],
   "source": [
    "import yaml\n",
    "import pandas as pd\n",
    " \n",
    "try:\n",
    "    with open(\"../config.yaml\", \"r\") as file:\n",
    "        config = yaml.safe_load(file)\n",
    "\n",
    "    df_full_clean = pd.read_csv(config['data']['clean_data']['full_clean'], sep=\";\")\n",
    "    df_business_clean = pd.read_csv(config['data']['clean_data']['business_clean'], sep=\";\")\n",
    "    df_economy_clean = pd.read_csv(config['data']['clean_data']['economy_clean'], sep=\";\")\n",
    "\n",
    "except:\n",
    "    print(\"Yaml configuration file not found!\")"
   ]
  },
  {
   "cell_type": "code",
   "execution_count": null,
   "id": "b8a353dd-70c1-4250-bc27-832abb112067",
   "metadata": {},
   "outputs": [],
   "source": [
    "df_full_clean.head()"
   ]
  },
  {
   "cell_type": "code",
   "execution_count": null,
   "id": "e6b265ca-9a47-42b6-874c-c081fd8144e9",
   "metadata": {},
   "outputs": [],
   "source": [
    "df_full_clean = df_full_clean.rename(columns={'source_city': 'from', 'destination_city': 'to'})"
   ]
  },
  {
   "cell_type": "code",
   "execution_count": null,
   "id": "1ea09ad1-7b2e-4d4e-8a8d-63312cce108a",
   "metadata": {},
   "outputs": [],
   "source": [
    "#TIME: Standard format is HH:MM:SS (24-hour clock)"
   ]
  },
  {
   "cell_type": "code",
   "execution_count": null,
   "id": "e271aacf-b481-4ada-b9eb-4db1ca4019e2",
   "metadata": {},
   "outputs": [],
   "source": [
    "df_full_clean.head()"
   ]
  },
  {
   "cell_type": "code",
   "execution_count": null,
   "id": "bac2689f-dd74-4f97-b042-e8a26ccdb840",
   "metadata": {},
   "outputs": [],
   "source": [
    "df_business_clean.head()"
   ]
  },
  {
   "cell_type": "code",
   "execution_count": null,
   "id": "a0f1a059-68b8-4c8f-8bed-c84eb169ca30",
   "metadata": {},
   "outputs": [],
   "source": [
    "df_economy_clean.head()"
   ]
  },
  {
   "cell_type": "code",
   "execution_count": null,
   "id": "02ff6318-800c-4f9f-9210-9b995129a533",
   "metadata": {},
   "outputs": [],
   "source": [
    "# Get unique time_of_day\n",
    "time_of_day_df = pd.DataFrame({\"time_of_day_id\": range(1, df[\"departure_time\"].nunique() + 1),\n",
    "                          \"time_of_day\": df[\"departure_time\"].drop_duplicates().reset_index(drop=True)})\n",
    "\n",
    "# Get unique arrival_time\n",
    "arrival_time_df = pd.DataFrame({\"arrival_time_id\": range(1, df[\"arrival_time\"].nunique() + 1),\n",
    "                               \"arrival_time\": df[\"arrival_time\"].drop_duplicates().reset_index(drop=True)})\n",
    "\n",
    "# Get unique departure_time\n",
    "airline_name_df = pd.DataFrame({\"airline_name_id\": range(1, df[\"airline\"].nunique() + 1),\n",
    "                          \"airline_name\": df[\"airline\"].drop_duplicates().reset_index(drop=True)})\n",
    "\n",
    "# Get unique duration\n",
    "duration_df = pd.DataFrame({\"duration_id\": range(1, df[\"duration\"].nunique() + 1),\n",
    "                               \"duration\": df[\"duration\"].drop_duplicates().reset_index(drop=True)})\n",
    "\n",
    "# Get unique stops\n",
    "stops_df = pd.DataFrame({\"stops_id\": range(1, df[\"stops\"].nunique() + 1),\n",
    "                               \"stops\": df[\"stops\"].drop_duplicates().reset_index(drop=True)})"
   ]
  }
 ],
 "metadata": {
  "kernelspec": {
   "display_name": "Python [conda env:base] *",
   "language": "python",
   "name": "conda-base-py"
  },
  "language_info": {
   "codemirror_mode": {
    "name": "ipython",
    "version": 3
   },
   "file_extension": ".py",
   "mimetype": "text/x-python",
   "name": "python",
   "nbconvert_exporter": "python",
   "pygments_lexer": "ipython3",
   "version": "3.13.5"
  }
 },
 "nbformat": 4,
 "nbformat_minor": 5
}
