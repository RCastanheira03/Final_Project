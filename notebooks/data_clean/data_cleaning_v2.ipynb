{
 "cells": [
  {
   "cell_type": "code",
   "execution_count": null,
   "id": "9024b430-3f89-4935-88d7-280afd87bf59",
   "metadata": {},
   "outputs": [],
   "source": [
    "import yaml\n",
    "import pandas as pd\n",
    "import re\n",
    "import sys\n",
    "import os\n",
    "from datetime import datetime, timedelta\n",
    "\n",
    "project_root = os.path.abspath(os.path.join(os.getcwd(), '../..'))\n",
    "\n",
    "if project_root not in sys.path:\n",
    "    sys.path.append(project_root)\n",
    "\n",
    "from functions import convert_to_hhmmss, convert_to_hhmmss_v2, calculate_duration\n",
    " \n",
    "try:\n",
    "    with open(\"../../config.yaml\", \"r\") as file:\n",
    "        config = yaml.safe_load(file)\n",
    "\n",
    "    df_business_clean = pd.read_csv(config['data']['clean_data']['business_clean'], sep=\";\")\n",
    "    df_economy_clean = pd.read_csv(config['data']['clean_data']['economy_clean'], sep=\";\")\n",
    "    df_full_clean = pd.read_csv(config['data']['clean_data']['full_clean'], sep=\";\")\n",
    "\n",
    "except:\n",
    "    print(\"Yaml configuration file not found!\")"
   ]
  },
  {
   "cell_type": "code",
   "execution_count": null,
   "id": "0c2e127d-2582-4e30-9e32-9d35a96a587b",
   "metadata": {},
   "outputs": [],
   "source": [
    "df_full_clean.head()"
   ]
  },
  {
   "cell_type": "code",
   "execution_count": null,
   "id": "b18ed461-cb94-4f8c-9328-e3067ee33833",
   "metadata": {},
   "outputs": [],
   "source": [
    "df_full_clean['duration'] = df_full_clean['duration'].apply(convert_to_hhmmss)"
   ]
  },
  {
   "cell_type": "code",
   "execution_count": null,
   "id": "5e659aff-2bed-49fc-8f7b-5f059a84fc4c",
   "metadata": {},
   "outputs": [],
   "source": [
    "df_full_clean = df_full_clean.rename(columns={'source_city': 'from', 'destination_city': 'to'})\n",
    "df_full_clean['stops'] = df_full_clean['stops'].replace('zero', '0')\n",
    "df_full_clean['stops'] = df_full_clean['stops'].replace('one', '1')\n",
    "df_full_clean['stops'] = df_full_clean['stops'].replace('two_or_more', '2+')"
   ]
  },
  {
   "cell_type": "code",
   "execution_count": null,
   "id": "d1d7abd0-581e-48c6-ba19-7cc379be74e4",
   "metadata": {},
   "outputs": [],
   "source": [
    "df_full_clean = df_full_clean.drop(columns=[\"departure_time\", \"arrival_time\"])"
   ]
  },
  {
   "cell_type": "code",
   "execution_count": null,
   "id": "3a30d993-1c90-4245-b68d-ec18b73acef4",
   "metadata": {},
   "outputs": [],
   "source": [
    "df_full_clean = df_full_clean[[\"airline\", \"flight\", \"from\", \"to\", \"duration\", \"stops\", \"class\", \"lead_time_days\", \"price\"]]"
   ]
  },
  {
   "cell_type": "code",
   "execution_count": null,
   "id": "dc27d066-702e-416e-8b43-61ba4d4ea8a7",
   "metadata": {},
   "outputs": [],
   "source": [
    "df_business_clean = df_business_clean[[\"airline\", \"flight\", \"from\", \"to\", \"duration\", \"stop\", \"dep_time\", \"arr_time\", \"price\"]]"
   ]
  },
  {
   "cell_type": "code",
   "execution_count": null,
   "id": "338ea755-f742-4053-b6bd-a4701ee048a8",
   "metadata": {},
   "outputs": [],
   "source": [
    "df_business_clean['duration'] = df_business_clean['duration'].apply(convert_to_hhmmss)\n",
    "df_business_clean['dep_time'] = df_business_clean['dep_time'].apply(convert_to_hhmmss_v2)\n",
    "df_business_clean['arr_time'] = df_business_clean['arr_time'].apply(convert_to_hhmmss_v2)"
   ]
  },
  {
   "cell_type": "code",
   "execution_count": null,
   "id": "2e93a480-8ce1-42d3-9bd0-1fbbcde65f87",
   "metadata": {},
   "outputs": [],
   "source": [
    "df_business_clean.head()"
   ]
  },
  {
   "cell_type": "code",
   "execution_count": null,
   "id": "a0bfe00f-5bb0-467d-b8d2-e012385cce3e",
   "metadata": {},
   "outputs": [],
   "source": [
    "df_business_clean['duration'] = df_business_clean.apply(lambda row: calculate_duration(row['dep_time'], row['arr_time']), axis=1)"
   ]
  },
  {
   "cell_type": "code",
   "execution_count": null,
   "id": "f70ad2f0-8fd5-4713-8e05-fd8ff973dc26",
   "metadata": {},
   "outputs": [],
   "source": [
    "df_business_clean = df_business_clean.rename(columns={'stop': 'stops'})\n",
    "df_business_clean['stops'] = df_business_clean['stops'].replace('non-stop', '0')\n",
    "df_business_clean['stops'] = df_business_clean['stops'].replace('1-stop', '1')\n",
    "df_business_clean['stops'] = df_business_clean['stops'].replace('2+-stop', '2+')"
   ]
  },
  {
   "cell_type": "code",
   "execution_count": null,
   "id": "4ef4a050-9682-4161-a4bc-0e8ccc971008",
   "metadata": {},
   "outputs": [],
   "source": [
    "df_economy_clean = df_economy_clean[[\"airline\", \"flight\", \"from\", \"to\", \"duration\", \"stop\", \"dep_time\", \"arr_time\", \"price\"]]"
   ]
  },
  {
   "cell_type": "code",
   "execution_count": null,
   "id": "b6d9f19a-63ac-4bf3-8734-17f812ef1cf6",
   "metadata": {},
   "outputs": [],
   "source": [
    "df_economy_clean['duration'] = df_economy_clean['duration'].apply(convert_to_hhmmss)\n",
    "df_economy_clean['dep_time'] = df_economy_clean['dep_time'].apply(convert_to_hhmmss_v2)\n",
    "df_economy_clean['arr_time'] = df_economy_clean['arr_time'].apply(convert_to_hhmmss_v2)"
   ]
  },
  {
   "cell_type": "code",
   "execution_count": null,
   "id": "f1eddd3b-6082-4c81-9123-535a3d8707c0",
   "metadata": {},
   "outputs": [],
   "source": [
    "df_economy_clean['duration'] = df_economy_clean.apply(lambda row: calculate_duration(row['dep_time'], row['arr_time']), axis=1)"
   ]
  },
  {
   "cell_type": "code",
   "execution_count": null,
   "id": "41323bb8-7ec6-43c2-a3ee-edd0ba0325c9",
   "metadata": {},
   "outputs": [],
   "source": [
    "df_economy_clean = df_economy_clean.rename(columns={'stop': 'stops'})\n",
    "df_economy_clean['stops'] = df_economy_clean['stops'].replace('non-stop', '0')\n",
    "df_economy_clean['stops'] = df_economy_clean['stops'].replace('1-stop', '1')\n",
    "df_economy_clean['stops'] = df_economy_clean['stops'].replace('2+-stop', '2+')"
   ]
  },
  {
   "cell_type": "code",
   "execution_count": null,
   "id": "cb9e8932-ede3-454d-bc4d-b1b906543e87",
   "metadata": {},
   "outputs": [],
   "source": [
    "df_business_clean.to_csv(config['data']['clean_data']['business_clean'], index=False, sep=\";\", encoding=\"utf-8\")"
   ]
  },
  {
   "cell_type": "code",
   "execution_count": null,
   "id": "aa15e237-3fd9-4d88-a9e0-ffd118ba6e54",
   "metadata": {},
   "outputs": [],
   "source": [
    "df_economy_clean.to_csv(config['data']['clean_data']['economy_clean'], index=False, sep=\";\", encoding=\"utf-8\")"
   ]
  },
  {
   "cell_type": "code",
   "execution_count": null,
   "id": "6117ec00-4e6d-4255-9a3b-6cbfec6fedf5",
   "metadata": {},
   "outputs": [],
   "source": [
    "df_full_clean.to_csv(config['data']['clean_data']['full_clean'], index=False, sep=\";\", encoding=\"utf-8\")"
   ]
  },
  {
   "cell_type": "code",
   "execution_count": null,
   "id": "79134953-081a-42a0-8e34-6d0deabdc44a",
   "metadata": {},
   "outputs": [],
   "source": [
    "df_business_clean"
   ]
  },
  {
   "cell_type": "code",
   "execution_count": null,
   "id": "f225ba9c-8759-4f88-aaa8-fd8218e2bb77",
   "metadata": {},
   "outputs": [],
   "source": []
  }
 ],
 "metadata": {
  "kernelspec": {
   "display_name": "Python [conda env:base] *",
   "language": "python",
   "name": "conda-base-py"
  },
  "language_info": {
   "codemirror_mode": {
    "name": "ipython",
    "version": 3
   },
   "file_extension": ".py",
   "mimetype": "text/x-python",
   "name": "python",
   "nbconvert_exporter": "python",
   "pygments_lexer": "ipython3",
   "version": "3.13.5"
  }
 },
 "nbformat": 4,
 "nbformat_minor": 5
}
