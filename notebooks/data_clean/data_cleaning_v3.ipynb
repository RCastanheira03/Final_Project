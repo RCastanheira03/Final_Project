{
 "cells": [
  {
   "cell_type": "code",
   "execution_count": null,
   "id": "157a362c-a88a-400f-a529-1f85bd6b308d",
   "metadata": {},
   "outputs": [],
   "source": [
    "import yaml\n",
    "import pandas as pd\n",
    "import re\n",
    "import sys\n",
    "import os\n",
    "from datetime import datetime, timedelta\n",
    "\n",
    "project_root = os.path.abspath(os.path.join(os.getcwd(), '../..'))\n",
    "\n",
    "if project_root not in sys.path:\n",
    "    sys.path.append(project_root)\n",
    " \n",
    "try:\n",
    "    with open(\"../../config.yaml\", \"r\") as file:\n",
    "        config = yaml.safe_load(file)\n",
    "\n",
    "    df_business = pd.read_csv(config['data']['raw_data']['business'])\n",
    "    df_economy = pd.read_csv(config['data']['raw_data']['economy'])\n",
    "    df_full = pd.read_csv(config['data']['raw_data']['full'])\n",
    "    df_business_clean = pd.read_csv(config['data']['clean_data']['business_clean'], sep=\";\")\n",
    "    df_economy_clean = pd.read_csv(config['data']['clean_data']['economy_clean'], sep=\";\")\n",
    "    df_full_clean = pd.read_csv(config['data']['clean_data']['full_clean'], sep=\";\")\n",
    "\n",
    "except:\n",
    "    print(\"Yaml configuration file not found!\")"
   ]
  },
  {
   "cell_type": "code",
   "execution_count": null,
   "id": "5e82a420-75d3-48f6-b588-3e5ba9e98ca0",
   "metadata": {},
   "outputs": [],
   "source": [
    "df_full"
   ]
  },
  {
   "cell_type": "code",
   "execution_count": null,
   "id": "aaf79bcd-6813-4e2f-aef4-614fa15994c7",
   "metadata": {},
   "outputs": [],
   "source": [
    "df_full['duration'] = df_full['duration'].apply(convert_decimal_to_hhmmss)"
   ]
  },
  {
   "cell_type": "code",
   "execution_count": null,
   "id": "c7ef03a2-6abc-4141-9840-b47e81d9960a",
   "metadata": {},
   "outputs": [],
   "source": [
    "df_full.head()"
   ]
  },
  {
   "cell_type": "code",
   "execution_count": null,
   "id": "0255a55b-d1ae-44b2-8127-a6162ed9e229",
   "metadata": {},
   "outputs": [],
   "source": [
    "df_full = df_full.drop(columns=['Unnamed: 0'])"
   ]
  },
  {
   "cell_type": "code",
   "execution_count": null,
   "id": "0a6f971a-b468-4e04-9b6d-af984a22ab4f",
   "metadata": {},
   "outputs": [],
   "source": [
    "df_full.rename(columns={'days_left': 'lead_time_days'}, inplace=True)"
   ]
  },
  {
   "cell_type": "code",
   "execution_count": null,
   "id": "0052e705-91e6-4aaf-b91a-4b1daa2203c8",
   "metadata": {},
   "outputs": [],
   "source": [
    "df_full.to_csv(config['data']['clean_data']['full_clean'], index=False, sep=\";\", encoding=\"utf-8\")"
   ]
  },
  {
   "cell_type": "code",
   "execution_count": null,
   "id": "4405c0db-f5e2-47da-9597-932a7788c6cd",
   "metadata": {},
   "outputs": [],
   "source": [
    "df_full_clean[\"stops\"].value_counts()"
   ]
  },
  {
   "cell_type": "code",
   "execution_count": null,
   "id": "7552c661-d92f-4ba2-9e4d-4085319d2991",
   "metadata": {},
   "outputs": [],
   "source": [
    "df_full_clean = df_full_clean.rename(columns={'source_city': 'from', 'destination_city': 'to'})\n",
    "df_full_clean['stops'] = df_full_clean['stops'].replace('zero', '0')\n",
    "df_full_clean['stops'] = df_full_clean['stops'].replace('one', '1')\n",
    "df_full_clean['stops'] = df_full_clean['stops'].replace('two_or_more', '2+')"
   ]
  },
  {
   "cell_type": "code",
   "execution_count": null,
   "id": "74333c00-12c9-44b8-997b-40e803bd96ae",
   "metadata": {},
   "outputs": [],
   "source": [
    "df_full_clean = df_full_clean.drop(columns=[\"departure_time\", \"arrival_time\"])"
   ]
  },
  {
   "cell_type": "code",
   "execution_count": null,
   "id": "ee970899-033e-44b4-ad31-b2ae110189db",
   "metadata": {},
   "outputs": [],
   "source": [
    "df_full_clean = df_full_clean[[\"airline\", \"flight\", \"from\", \"to\", \"duration\", \"stops\", \"class\", \"lead_time_days\", \"price\"]]"
   ]
  },
  {
   "cell_type": "code",
   "execution_count": null,
   "id": "4d85362b-8622-4a5a-b914-12cbae006bce",
   "metadata": {},
   "outputs": [],
   "source": [
    "df_full_clean.head()"
   ]
  },
  {
   "cell_type": "code",
   "execution_count": null,
   "id": "667ce05c-3fd9-4e45-af29-7a5deb988fac",
   "metadata": {},
   "outputs": [],
   "source": [
    "#df_full_clean.to_csv(config['data']['clean_data']['full_clean'], index=False, sep=\";\", encoding=\"utf-8\")"
   ]
  },
  {
   "cell_type": "code",
   "execution_count": null,
   "id": "dc39e0a5-f6ed-45bc-bd01-ea50757374f9",
   "metadata": {},
   "outputs": [],
   "source": []
  },
  {
   "cell_type": "code",
   "execution_count": null,
   "id": "169f23d6-ae8e-48a7-b906-ac507f69d9b0",
   "metadata": {},
   "outputs": [],
   "source": [
    "df_business.head()"
   ]
  },
  {
   "cell_type": "code",
   "execution_count": null,
   "id": "6bf70ce3-4b87-4a7d-9dff-b46ba4c12061",
   "metadata": {},
   "outputs": [],
   "source": [
    "df_business.rename(columns={'time_taken': 'duration'}, inplace=True)\n",
    "df_business['flight'] = df_business['ch_code'].astype(str) + '-' + df_business['num_code'].astype(str)\n",
    "df_business['stop'] = df_business['stop'].str.split('\\n').str[0].str.strip()"
   ]
  },
  {
   "cell_type": "code",
   "execution_count": null,
   "id": "4fc62ac0-3311-44b4-9727-ce6aa931e360",
   "metadata": {},
   "outputs": [],
   "source": [
    "df_business_clean = df_business.drop(columns=[\"date\", \"ch_code\", \"num_code\"])"
   ]
  },
  {
   "cell_type": "code",
   "execution_count": null,
   "id": "eb4aaf5e-2847-43a4-902d-8d0c820947ee",
   "metadata": {},
   "outputs": [],
   "source": [
    "df_business_clean.head()"
   ]
  },
  {
   "cell_type": "code",
   "execution_count": null,
   "id": "c0f4dfe7-6ac3-4e99-aebe-db66031f7314",
   "metadata": {},
   "outputs": [],
   "source": [
    "df_business_clean = df_business_clean.rename(columns={'stop': 'stops'})\n",
    "df_business_clean['stops'] = df_business_clean['stops'].replace('non-stop', '0')\n",
    "df_business_clean['stops'] = df_business_clean['stops'].replace('1-stop', '1')\n",
    "df_business_clean['stops'] = df_business_clean['stops'].replace('2+-stop', '2+')"
   ]
  },
  {
   "cell_type": "code",
   "execution_count": null,
   "id": "cbc69869-7843-4d2f-bfd6-bda835b57fb2",
   "metadata": {},
   "outputs": [],
   "source": [
    "df_business_clean = df_business_clean[[\"airline\", \"flight\", \"from\", \"to\", \"duration\", \"stops\", \"dep_time\", \"arr_time\", \"price\"]]"
   ]
  },
  {
   "cell_type": "code",
   "execution_count": null,
   "id": "a0ae229a-aa26-45e4-9119-8e82adf3490c",
   "metadata": {},
   "outputs": [],
   "source": [
    "df_business_clean['dep_time'] = df_business_clean['dep_time'].apply(normalize_time_string)\n",
    "df_business_clean['arr_time'] = df_business_clean['arr_time'].apply(normalize_time_string)\n",
    "df_business_clean['duration'] = df_business_clean['duration'].apply(convert_hm_to_hhmmss)"
   ]
  },
  {
   "cell_type": "code",
   "execution_count": null,
   "id": "3bfff2fa-8753-4845-86bf-2ed7726457e5",
   "metadata": {},
   "outputs": [],
   "source": [
    "#df_business_clean.to_csv(config['data']['clean_data']['business_clean'], index=False, sep=\";\", encoding=\"utf-8\")"
   ]
  },
  {
   "cell_type": "code",
   "execution_count": null,
   "id": "f4404e75-74b8-4710-8865-a12bb3d75819",
   "metadata": {},
   "outputs": [],
   "source": []
  },
  {
   "cell_type": "code",
   "execution_count": null,
   "id": "05210430-a061-4ddb-aaf5-630dd7ff872e",
   "metadata": {},
   "outputs": [],
   "source": [
    "df_economy.head()"
   ]
  },
  {
   "cell_type": "code",
   "execution_count": null,
   "id": "2dc2537c-9874-4f55-9b44-3b9ba0a04ae0",
   "metadata": {},
   "outputs": [],
   "source": [
    "df_economy.rename(columns={'time_taken': 'duration'}, inplace=True)\n",
    "df_economy['flight'] = df_economy['ch_code'].astype(str) + '-' + df_economy['num_code'].astype(str)\n",
    "df_economy['stop'] = df_economy['stop'].str.split('\\n').str[0].str.strip()"
   ]
  },
  {
   "cell_type": "code",
   "execution_count": null,
   "id": "d265c174-17e3-43e3-9478-12252ea4ff24",
   "metadata": {},
   "outputs": [],
   "source": [
    "df_economy_clean = df_economy.drop(columns=[\"date\", \"ch_code\", \"num_code\"])"
   ]
  },
  {
   "cell_type": "code",
   "execution_count": null,
   "id": "64503674-a762-4171-8a40-bb30fd219a95",
   "metadata": {},
   "outputs": [],
   "source": [
    "df_economy_clean.head()"
   ]
  },
  {
   "cell_type": "code",
   "execution_count": null,
   "id": "f8d0f7a4-22fa-49a7-8116-8adae9e87c07",
   "metadata": {},
   "outputs": [],
   "source": [
    "df_economy_clean = df_economy_clean.rename(columns={'stop': 'stops'})\n",
    "df_economy_clean['stops'] = df_economy_clean['stops'].replace('non-stop', '0')\n",
    "df_economy_clean['stops'] = df_economy_clean['stops'].replace('1-stop', '1')\n",
    "df_economy_clean['stops'] = df_economy_clean['stops'].replace('2+-stop', '2+')"
   ]
  },
  {
   "cell_type": "code",
   "execution_count": null,
   "id": "22fe6b5b-5081-4ed2-80db-11c3299d0504",
   "metadata": {},
   "outputs": [],
   "source": [
    "df_economy_clean = df_economy_clean[[\"airline\", \"flight\", \"from\", \"to\", \"duration\", \"stops\", \"dep_time\", \"arr_time\", \"price\"]]"
   ]
  },
  {
   "cell_type": "code",
   "execution_count": null,
   "id": "e21abb02-12ba-4f18-abb3-ff88bc8415c7",
   "metadata": {},
   "outputs": [],
   "source": [
    "df_economy_clean['dep_time'] = df_economy_clean['dep_time'].apply(normalize_time_string)\n",
    "df_economy_clean['arr_time'] = df_economy_clean['arr_time'].apply(normalize_time_string)\n",
    "df_economy_clean['duration'] = df_economy_clean['duration'].apply(convert_hm_to_hhmmss)"
   ]
  },
  {
   "cell_type": "code",
   "execution_count": null,
   "id": "aab9fd25-f889-4428-b005-69f5f8e9d455",
   "metadata": {},
   "outputs": [],
   "source": [
    "#df_economy_clean.to_csv(config['data']['clean_data']['economy_clean'], index=False, sep=\";\", encoding=\"utf-8\")"
   ]
  }
 ],
 "metadata": {
  "kernelspec": {
   "display_name": "Python [conda env:base] *",
   "language": "python",
   "name": "conda-base-py"
  },
  "language_info": {
   "codemirror_mode": {
    "name": "ipython",
    "version": 3
   },
   "file_extension": ".py",
   "mimetype": "text/x-python",
   "name": "python",
   "nbconvert_exporter": "python",
   "pygments_lexer": "ipython3",
   "version": "3.13.5"
  }
 },
 "nbformat": 4,
 "nbformat_minor": 5
}
