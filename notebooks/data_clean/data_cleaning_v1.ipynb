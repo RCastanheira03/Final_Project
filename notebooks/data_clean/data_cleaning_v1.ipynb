{
 "cells": [
  {
   "cell_type": "code",
   "execution_count": null,
   "id": "ab9aeecc-d706-485d-ab65-320263036628",
   "metadata": {},
   "outputs": [],
   "source": [
    "import yaml\n",
    "import pandas as pd\n",
    " \n",
    "try:\n",
    "    with open(\"../../config.yaml\", \"r\") as file:\n",
    "        config = yaml.safe_load(file)\n",
    "\n",
    "    df_business = pd.read_csv(config['data']['raw_data']['business'])\n",
    "    df_economy = pd.read_csv(config['data']['raw_data']['economy'])\n",
    "    df_full = pd.read_csv(config['data']['raw_data']['full'])\n",
    "\n",
    "except:\n",
    "    print(\"Yaml configuration file not found!\")"
   ]
  },
  {
   "cell_type": "raw",
   "id": "e216b357-280f-4f2d-9ef7-0c8bd80d5c93",
   "metadata": {},
   "source": [
    "Analyzing 'business_csv'"
   ]
  },
  {
   "cell_type": "code",
   "execution_count": null,
   "id": "4b0ccae8-21e7-4ccd-b19f-576d6be6156a",
   "metadata": {},
   "outputs": [],
   "source": [
    "df_business.head()"
   ]
  },
  {
   "cell_type": "raw",
   "id": "84edd8dd-1dd7-462d-bed2-ec718175e844",
   "metadata": {},
   "source": [
    "Renaming 'time_taken' to 'duration'"
   ]
  },
  {
   "cell_type": "code",
   "execution_count": null,
   "id": "42c67d13-0e21-4b33-83e7-af56bdac95fc",
   "metadata": {},
   "outputs": [],
   "source": [
    "df_business.rename(columns={'time_taken': 'duration'}, inplace=True)"
   ]
  },
  {
   "cell_type": "raw",
   "id": "224b93ba-1253-4ac5-a02c-b27f153f596f",
   "metadata": {},
   "source": [
    "Adding column 'flight' by concatenating columns 'ch_code' and 'num_code'"
   ]
  },
  {
   "cell_type": "code",
   "execution_count": null,
   "id": "50bddaf3-bf03-4dd6-afa6-37c3b023ea47",
   "metadata": {},
   "outputs": [],
   "source": [
    "df_business['flight'] = df_business['ch_code'].astype(str) + '-' + df_business['num_code'].astype(str)"
   ]
  },
  {
   "cell_type": "code",
   "execution_count": null,
   "id": "7ad70fcf-0ca6-41eb-a5d4-44e6b9fb551a",
   "metadata": {},
   "outputs": [],
   "source": [
    "df_business.head()"
   ]
  },
  {
   "cell_type": "raw",
   "id": "4a57603a-4cd5-4298-b162-dda483d343bd",
   "metadata": {},
   "source": [
    "After spotting strange format in 'stop' column, checking for values in order to clean data."
   ]
  },
  {
   "cell_type": "code",
   "execution_count": null,
   "id": "f6e581fe-f8f8-483c-8e65-7d63b9088c3c",
   "metadata": {},
   "outputs": [],
   "source": [
    "df_business[\"stop\"].nunique()"
   ]
  },
  {
   "cell_type": "code",
   "execution_count": null,
   "id": "b4b7a538-87d1-43d5-bc86-40126e6cf6c3",
   "metadata": {},
   "outputs": [],
   "source": [
    "df_business[\"stop\"].unique()"
   ]
  },
  {
   "cell_type": "code",
   "execution_count": null,
   "id": "137777bf-2692-4673-a7b5-96e3f6715b6a",
   "metadata": {},
   "outputs": [],
   "source": [
    "df_business['stop'] = df_business['stop'].str.split('\\n').str[0].str.strip()\n",
    "df_business[\"stop\"].unique()"
   ]
  },
  {
   "cell_type": "code",
   "execution_count": null,
   "id": "533d31e8-5891-4f07-be1b-6b5abe876fed",
   "metadata": {},
   "outputs": [],
   "source": [
    "df_business.head()"
   ]
  },
  {
   "cell_type": "raw",
   "id": "28571814-e2cf-4dcb-b02a-eda60fe9de5e",
   "metadata": {},
   "source": [
    "Checking for null values and duplicates"
   ]
  },
  {
   "cell_type": "code",
   "execution_count": null,
   "id": "8709f4f7-20a9-423d-9a05-cf04c21bdcd0",
   "metadata": {},
   "outputs": [],
   "source": [
    "df_business.isnull().sum()"
   ]
  },
  {
   "cell_type": "code",
   "execution_count": null,
   "id": "691dd5bd-9224-4000-8c2c-902ffe400e5c",
   "metadata": {},
   "outputs": [],
   "source": [
    "df_business.duplicated().any()"
   ]
  },
  {
   "cell_type": "raw",
   "id": "0adbd023-9874-405c-ae05-09c542786e9d",
   "metadata": {},
   "source": [
    "Checking data types for all columns"
   ]
  },
  {
   "cell_type": "code",
   "execution_count": null,
   "id": "e345238e-74eb-4347-b16b-079ab432ff1d",
   "metadata": {},
   "outputs": [],
   "source": [
    "df_business.dtypes"
   ]
  },
  {
   "cell_type": "code",
   "execution_count": null,
   "id": "dc0ca0e3-1108-4f18-b18c-d2c8737b3125",
   "metadata": {},
   "outputs": [],
   "source": [
    "df_business.head()"
   ]
  },
  {
   "cell_type": "raw",
   "id": "1ac5c634-8573-4595-b451-ed7c081983d1",
   "metadata": {},
   "source": [
    "Dropping 'date', 'ch_code' and 'num_code' columns + Saving clean dataframe to new file via yaml"
   ]
  },
  {
   "cell_type": "code",
   "execution_count": null,
   "id": "70745236-9c80-4be1-bf4e-c8d0360e4f1f",
   "metadata": {},
   "outputs": [],
   "source": [
    "business_clean = df_business.drop(columns=[\"date\", \"ch_code\", \"num_code\"])"
   ]
  },
  {
   "cell_type": "code",
   "execution_count": null,
   "id": "63b0bff4-138d-4431-a47f-dc90704908d1",
   "metadata": {},
   "outputs": [],
   "source": [
    "business_clean.head()"
   ]
  },
  {
   "cell_type": "code",
   "execution_count": null,
   "id": "cc35b835-ab68-4457-9747-e7abca754aa7",
   "metadata": {},
   "outputs": [],
   "source": [
    "#business_clean.to_csv(config['data']['clean_data']['business_clean'], index=False, sep=\";\", encoding=\"utf-8\")"
   ]
  },
  {
   "cell_type": "raw",
   "id": "6e989fde-0f5d-4c7f-9963-19352d9703b1",
   "metadata": {},
   "source": [
    "Analyzing 'economy_csv'"
   ]
  },
  {
   "cell_type": "code",
   "execution_count": null,
   "id": "fa17af12-86ac-4c6b-9e24-b8eec92ed38a",
   "metadata": {},
   "outputs": [],
   "source": [
    "df_economy.head()"
   ]
  },
  {
   "cell_type": "raw",
   "id": "0ffed538-6de3-43d7-830c-5e22bc1cd545",
   "metadata": {},
   "source": [
    "Renaming 'time_taken' to 'duration'"
   ]
  },
  {
   "cell_type": "code",
   "execution_count": null,
   "id": "e289567b-5954-4863-aa10-6fd71489eed5",
   "metadata": {},
   "outputs": [],
   "source": [
    "df_economy.rename(columns={'time_taken': 'duration'}, inplace=True)"
   ]
  },
  {
   "cell_type": "raw",
   "id": "526fd610-8378-45b0-b434-ab3c51dcbfe5",
   "metadata": {},
   "source": [
    "Adding column 'flight' by concatenating columns 'ch_code' and 'num_code'"
   ]
  },
  {
   "cell_type": "code",
   "execution_count": null,
   "id": "dd95e905-b352-4746-ae33-cea08326e75c",
   "metadata": {},
   "outputs": [],
   "source": [
    "df_economy['flight'] = df_economy['ch_code'].astype(str) + '-' + df_economy['num_code'].astype(str)"
   ]
  },
  {
   "cell_type": "raw",
   "id": "e304c459-7c01-43e6-9fc8-6730d6f43f93",
   "metadata": {},
   "source": [
    "Checking column stop for same situation as previous dataframe"
   ]
  },
  {
   "cell_type": "code",
   "execution_count": null,
   "id": "f65c9a33-b8db-49ca-8a33-332e134475f8",
   "metadata": {},
   "outputs": [],
   "source": [
    "df_economy[\"stop\"].nunique()"
   ]
  },
  {
   "cell_type": "code",
   "execution_count": null,
   "id": "3b955d85-b3da-4745-91b5-fc076eda1b08",
   "metadata": {},
   "outputs": [],
   "source": [
    "df_economy[\"stop\"].unique()"
   ]
  },
  {
   "cell_type": "code",
   "execution_count": null,
   "id": "ed3547fb-9ca7-48a7-a294-637ad35c1ad7",
   "metadata": {},
   "outputs": [],
   "source": [
    "df_economy['stop'] = df_economy['stop'].str.split('\\n').str[0].str.strip()\n",
    "df_economy[\"stop\"].unique()"
   ]
  },
  {
   "cell_type": "raw",
   "id": "c59f63c0-5213-4b2a-97fe-b9429a6b7e70",
   "metadata": {},
   "source": [
    "Checking for null values, duplicates and data types"
   ]
  },
  {
   "cell_type": "code",
   "execution_count": null,
   "id": "1400ae21-d83b-4443-ae8d-9cfe75b0a11a",
   "metadata": {},
   "outputs": [],
   "source": [
    "df_economy.isnull().sum()"
   ]
  },
  {
   "cell_type": "code",
   "execution_count": null,
   "id": "cc00cb39-cb63-499e-8248-8ce696a0c0cc",
   "metadata": {},
   "outputs": [],
   "source": [
    "df_economy.duplicated().any()"
   ]
  },
  {
   "cell_type": "code",
   "execution_count": null,
   "id": "8e548d86-1b68-4956-8722-65aa624b9728",
   "metadata": {},
   "outputs": [],
   "source": [
    "df_economy.duplicated().sum()"
   ]
  },
  {
   "cell_type": "code",
   "execution_count": null,
   "id": "73540477-190f-4031-9c10-3beab315d1ca",
   "metadata": {},
   "outputs": [],
   "source": [
    "df_economy.drop_duplicates(inplace=True)"
   ]
  },
  {
   "cell_type": "code",
   "execution_count": null,
   "id": "b90e7b30-7ab0-4108-9ff3-af67669f111b",
   "metadata": {},
   "outputs": [],
   "source": [
    "df_economy.duplicated().any()"
   ]
  },
  {
   "cell_type": "code",
   "execution_count": null,
   "id": "42a1bce9-7ea6-47c2-85d2-e9f1a5ea9fb9",
   "metadata": {},
   "outputs": [],
   "source": [
    "df_economy.dtypes"
   ]
  },
  {
   "cell_type": "raw",
   "id": "ac8622c4-f05f-4ef8-bd94-9a066bb09ec9",
   "metadata": {},
   "source": [
    "Dropping 'date'+ Saving clean dataframe to new file via yaml"
   ]
  },
  {
   "cell_type": "code",
   "execution_count": null,
   "id": "693f6682-f4e5-4f99-ad66-ed4c3e3161f7",
   "metadata": {},
   "outputs": [],
   "source": [
    "economy_clean = df_economy.drop(columns=[\"date\", \"ch_code\", \"num_code\"])"
   ]
  },
  {
   "cell_type": "code",
   "execution_count": null,
   "id": "6b9f1059-e0dc-4edf-8532-d43d55ac4dd9",
   "metadata": {},
   "outputs": [],
   "source": [
    "#economy_clean.to_csv(config['data']['clean_data']['economy_clean'], index=False, sep=\";\", encoding=\"utf-8\")"
   ]
  },
  {
   "cell_type": "raw",
   "id": "ed10b63a-6b29-4a85-9d92-09acb76cc1de",
   "metadata": {},
   "source": [
    "Analyzing 'full_data'"
   ]
  },
  {
   "cell_type": "code",
   "execution_count": null,
   "id": "1e0020b3-fde7-451c-869f-5c8ddd051b9d",
   "metadata": {},
   "outputs": [],
   "source": [
    "df_full.head()"
   ]
  },
  {
   "cell_type": "code",
   "execution_count": null,
   "id": "3ba6bcd7-55e6-47b0-8dee-75564708eaad",
   "metadata": {},
   "outputs": [],
   "source": [
    "df_full.dtypes"
   ]
  },
  {
   "cell_type": "code",
   "execution_count": null,
   "id": "2aef8a6b-ae31-4429-98ca-2ae5e4e2a435",
   "metadata": {},
   "outputs": [],
   "source": [
    "df_full.isnull().any()"
   ]
  },
  {
   "cell_type": "code",
   "execution_count": null,
   "id": "969f131d-bded-43a1-ad46-3ee17cb0dc45",
   "metadata": {},
   "outputs": [],
   "source": [
    "df_full.duplicated().any()"
   ]
  },
  {
   "cell_type": "code",
   "execution_count": null,
   "id": "f95f148f-7c81-43aa-946b-f47b10068806",
   "metadata": {},
   "outputs": [],
   "source": [
    "df_full = df_full.drop(columns=['Unnamed: 0'])"
   ]
  },
  {
   "cell_type": "code",
   "execution_count": null,
   "id": "c1615880-f281-4104-8fe1-6d152947f233",
   "metadata": {},
   "outputs": [],
   "source": [
    "df_full.head()"
   ]
  },
  {
   "cell_type": "code",
   "execution_count": null,
   "id": "07c48037-a6e1-4f0b-af14-ef391e642009",
   "metadata": {},
   "outputs": [],
   "source": [
    "df_full[\"departure_time\"].unique()"
   ]
  },
  {
   "cell_type": "code",
   "execution_count": null,
   "id": "63729c9f-6653-480c-9355-8cc62eafdf99",
   "metadata": {},
   "outputs": [],
   "source": [
    "df_full[\"class\"].unique()"
   ]
  },
  {
   "cell_type": "raw",
   "id": "c44bcb2f-f332-49ad-a574-61c685f6e01b",
   "metadata": {},
   "source": [
    "Formatting 'duration' column to show hours and minutes"
   ]
  },
  {
   "cell_type": "code",
   "execution_count": null,
   "id": "7b2525bd-ad29-4d5e-9b3e-f0b9055e93c2",
   "metadata": {},
   "outputs": [],
   "source": [
    "df_full['duration'] = df_full['duration'].apply(lambda x: f\"{int(x)}h {int(round((x - int(x)) * 100)):02d}m\")\n",
    "df_full.head()"
   ]
  },
  {
   "cell_type": "raw",
   "id": "cbc4fad3-0e43-46a1-83f3-3060c90cf13a",
   "metadata": {},
   "source": [
    "Renaming 'days_left' to 'lead_time_days'"
   ]
  },
  {
   "cell_type": "code",
   "execution_count": null,
   "id": "3c3f4d5d-73b2-43f4-bb2f-b1a2e3a8414b",
   "metadata": {},
   "outputs": [],
   "source": [
    "df_full.rename(columns={'days_left': 'lead_time_days'}, inplace=True)"
   ]
  },
  {
   "cell_type": "raw",
   "id": "4b23eba5-ab47-4ef5-a4fd-551eefd68279",
   "metadata": {},
   "source": [
    "Saving clean dataframe via yaml"
   ]
  },
  {
   "cell_type": "code",
   "execution_count": null,
   "id": "37d23220-9132-41d1-8e96-3b052456c004",
   "metadata": {},
   "outputs": [],
   "source": [
    "#df_full.to_csv(config['data']['clean_data']['full_clean'], index=False, sep=\";\", encoding=\"utf-8\")"
   ]
  }
 ],
 "metadata": {
  "kernelspec": {
   "display_name": "Python [conda env:base] *",
   "language": "python",
   "name": "conda-base-py"
  },
  "language_info": {
   "codemirror_mode": {
    "name": "ipython",
    "version": 3
   },
   "file_extension": ".py",
   "mimetype": "text/x-python",
   "name": "python",
   "nbconvert_exporter": "python",
   "pygments_lexer": "ipython3",
   "version": "3.13.5"
  }
 },
 "nbformat": 4,
 "nbformat_minor": 5
}
