{
 "cells": [
  {
   "cell_type": "code",
   "execution_count": 1,
   "id": "9024b430-3f89-4935-88d7-280afd87bf59",
   "metadata": {},
   "outputs": [],
   "source": [
    "import yaml\n",
    "import pandas as pd\n",
    "import re\n",
    "import sys\n",
    "import os\n",
    "from datetime import datetime, timedelta\n",
    "\n",
    "project_root = os.path.abspath(os.path.join(os.getcwd(), '..'))\n",
    "\n",
    "if project_root not in sys.path:\n",
    "    sys.path.append(project_root)\n",
    "\n",
    "from functions import convert_to_hhmmss, convert_to_hhmmss_v2, calculate_duration\n",
    " \n",
    "try:\n",
    "    with open(\"../config.yaml\", \"r\") as file:\n",
    "        config = yaml.safe_load(file)\n",
    "\n",
    "    df_business_clean = pd.read_csv(config['data']['clean_data']['business_clean'], sep=\";\")\n",
    "    df_economy_clean = pd.read_csv(config['data']['clean_data']['economy_clean'], sep=\";\")\n",
    "    df_full_clean = pd.read_csv(config['data']['clean_data']['full_clean'], sep=\";\")\n",
    "\n",
    "except:\n",
    "    print(\"Yaml configuration file not found!\")"
   ]
  },
  {
   "cell_type": "code",
   "execution_count": 2,
   "id": "5e659aff-2bed-49fc-8f7b-5f059a84fc4c",
   "metadata": {},
   "outputs": [],
   "source": [
    "df_full_clean = df_full_clean.rename(columns={'source_city': 'from', 'destination_city': 'to'})\n",
    "df_full_clean['stops'] = df_full_clean['stops'].replace('zero', '0')\n",
    "df_full_clean['stops'] = df_full_clean['stops'].replace('one', '1')\n",
    "df_full_clean['stops'] = df_full_clean['stops'].replace('two_or_more', '2+')"
   ]
  },
  {
   "cell_type": "code",
   "execution_count": 3,
   "id": "d1d7abd0-581e-48c6-ba19-7cc379be74e4",
   "metadata": {},
   "outputs": [],
   "source": [
    "df_full_clean = df_full_clean.drop(columns=[\"departure_time\", \"arrival_time\"])"
   ]
  },
  {
   "cell_type": "code",
   "execution_count": 4,
   "id": "3a30d993-1c90-4245-b68d-ec18b73acef4",
   "metadata": {},
   "outputs": [],
   "source": [
    "df_full_clean = df_full_clean[[\"airline\", \"flight\", \"from\", \"to\", \"duration\", \"stops\", \"class\", \"lead_time_days\", \"price\"]]"
   ]
  },
  {
   "cell_type": "code",
   "execution_count": 5,
   "id": "dc27d066-702e-416e-8b43-61ba4d4ea8a7",
   "metadata": {},
   "outputs": [],
   "source": [
    "df_business_clean = df_business_clean[[\"airline\", \"flight\", \"from\", \"to\", \"duration\", \"stop\", \"dep_time\", \"arr_time\", \"price\"]]"
   ]
  },
  {
   "cell_type": "code",
   "execution_count": 6,
   "id": "338ea755-f742-4053-b6bd-a4701ee048a8",
   "metadata": {},
   "outputs": [],
   "source": [
    "df_business_clean['duration'] = df_business_clean['duration'].apply(convert_to_hhmmss)\n",
    "df_business_clean['dep_time'] = df_business_clean['dep_time'].apply(convert_to_hhmmss_v2)\n",
    "df_business_clean['arr_time'] = df_business_clean['arr_time'].apply(convert_to_hhmmss_v2)"
   ]
  },
  {
   "cell_type": "code",
   "execution_count": 7,
   "id": "a0bfe00f-5bb0-467d-b8d2-e012385cce3e",
   "metadata": {},
   "outputs": [],
   "source": [
    "df_business_clean['duration'] = df_business_clean.apply(lambda row: calculate_duration(row['dep_time'], row['arr_time']), axis=1)"
   ]
  },
  {
   "cell_type": "code",
   "execution_count": 8,
   "id": "f70ad2f0-8fd5-4713-8e05-fd8ff973dc26",
   "metadata": {},
   "outputs": [],
   "source": [
    "df_business_clean = df_business_clean.rename(columns={'stop': 'stops'})\n",
    "df_business_clean['stops'] = df_business_clean['stops'].replace('non-stop', '0')\n",
    "df_business_clean['stops'] = df_business_clean['stops'].replace('1-stop', '1')\n",
    "df_business_clean['stops'] = df_business_clean['stops'].replace('2+-stop', '2+')"
   ]
  },
  {
   "cell_type": "code",
   "execution_count": 9,
   "id": "4ef4a050-9682-4161-a4bc-0e8ccc971008",
   "metadata": {},
   "outputs": [],
   "source": [
    "df_economy_clean = df_economy_clean[[\"airline\", \"flight\", \"from\", \"to\", \"duration\", \"stop\", \"dep_time\", \"arr_time\", \"price\"]]"
   ]
  },
  {
   "cell_type": "code",
   "execution_count": 10,
   "id": "b6d9f19a-63ac-4bf3-8734-17f812ef1cf6",
   "metadata": {},
   "outputs": [],
   "source": [
    "df_economy_clean['duration'] = df_economy_clean['duration'].apply(convert_to_hhmmss)\n",
    "df_economy_clean['dep_time'] = df_economy_clean['dep_time'].apply(convert_to_hhmmss_v2)\n",
    "df_economy_clean['arr_time'] = df_economy_clean['arr_time'].apply(convert_to_hhmmss_v2)"
   ]
  },
  {
   "cell_type": "code",
   "execution_count": 11,
   "id": "f1eddd3b-6082-4c81-9123-535a3d8707c0",
   "metadata": {},
   "outputs": [],
   "source": [
    "df_economy_clean['duration'] = df_economy_clean.apply(lambda row: calculate_duration(row['dep_time'], row['arr_time']), axis=1)"
   ]
  },
  {
   "cell_type": "code",
   "execution_count": 12,
   "id": "41323bb8-7ec6-43c2-a3ee-edd0ba0325c9",
   "metadata": {},
   "outputs": [],
   "source": [
    "df_economy_clean = df_economy_clean.rename(columns={'stop': 'stops'})\n",
    "df_economy_clean['stops'] = df_economy_clean['stops'].replace('non-stop', '0')\n",
    "df_economy_clean['stops'] = df_economy_clean['stops'].replace('1-stop', '1')\n",
    "df_economy_clean['stops'] = df_economy_clean['stops'].replace('2+-stop', '2+')"
   ]
  },
  {
   "cell_type": "code",
   "execution_count": 13,
   "id": "cb9e8932-ede3-454d-bc4d-b1b906543e87",
   "metadata": {},
   "outputs": [],
   "source": [
    "df_business_clean.to_csv(config['data']['clean_data']['business_clean'], index=False, sep=\";\", encoding=\"utf-8\")"
   ]
  },
  {
   "cell_type": "code",
   "execution_count": 14,
   "id": "aa15e237-3fd9-4d88-a9e0-ffd118ba6e54",
   "metadata": {},
   "outputs": [],
   "source": [
    "df_economy_clean.to_csv(config['data']['clean_data']['economy_clean'], index=False, sep=\";\", encoding=\"utf-8\")"
   ]
  },
  {
   "cell_type": "code",
   "execution_count": 16,
   "id": "6117ec00-4e6d-4255-9a3b-6cbfec6fedf5",
   "metadata": {},
   "outputs": [],
   "source": [
    "df_full_clean.to_csv(config['data']['clean_data']['full_clean'], index=False, sep=\";\", encoding=\"utf-8\")"
   ]
  },
  {
   "cell_type": "code",
   "execution_count": 17,
   "id": "79134953-081a-42a0-8e34-6d0deabdc44a",
   "metadata": {},
   "outputs": [
    {
     "data": {
      "text/html": [
       "<div>\n",
       "<style scoped>\n",
       "    .dataframe tbody tr th:only-of-type {\n",
       "        vertical-align: middle;\n",
       "    }\n",
       "\n",
       "    .dataframe tbody tr th {\n",
       "        vertical-align: top;\n",
       "    }\n",
       "\n",
       "    .dataframe thead th {\n",
       "        text-align: right;\n",
       "    }\n",
       "</style>\n",
       "<table border=\"1\" class=\"dataframe\">\n",
       "  <thead>\n",
       "    <tr style=\"text-align: right;\">\n",
       "      <th></th>\n",
       "      <th>airline</th>\n",
       "      <th>flight</th>\n",
       "      <th>from</th>\n",
       "      <th>to</th>\n",
       "      <th>duration</th>\n",
       "      <th>stops</th>\n",
       "      <th>dep_time</th>\n",
       "      <th>arr_time</th>\n",
       "      <th>price</th>\n",
       "    </tr>\n",
       "  </thead>\n",
       "  <tbody>\n",
       "    <tr>\n",
       "      <th>0</th>\n",
       "      <td>Air India</td>\n",
       "      <td>AI-868</td>\n",
       "      <td>Delhi</td>\n",
       "      <td>Mumbai</td>\n",
       "      <td>2:00:00</td>\n",
       "      <td>0</td>\n",
       "      <td>18:00:00</td>\n",
       "      <td>20:00:00</td>\n",
       "      <td>25,612</td>\n",
       "    </tr>\n",
       "    <tr>\n",
       "      <th>1</th>\n",
       "      <td>Air India</td>\n",
       "      <td>AI-624</td>\n",
       "      <td>Delhi</td>\n",
       "      <td>Mumbai</td>\n",
       "      <td>2:15:00</td>\n",
       "      <td>0</td>\n",
       "      <td>19:00:00</td>\n",
       "      <td>21:15:00</td>\n",
       "      <td>25,612</td>\n",
       "    </tr>\n",
       "    <tr>\n",
       "      <th>2</th>\n",
       "      <td>Air India</td>\n",
       "      <td>AI-531</td>\n",
       "      <td>Delhi</td>\n",
       "      <td>Mumbai</td>\n",
       "      <td>0:45:00</td>\n",
       "      <td>1</td>\n",
       "      <td>20:00:00</td>\n",
       "      <td>20:45:00</td>\n",
       "      <td>42,220</td>\n",
       "    </tr>\n",
       "    <tr>\n",
       "      <th>3</th>\n",
       "      <td>Air India</td>\n",
       "      <td>AI-839</td>\n",
       "      <td>Delhi</td>\n",
       "      <td>Mumbai</td>\n",
       "      <td>2:30:00</td>\n",
       "      <td>1</td>\n",
       "      <td>21:25:00</td>\n",
       "      <td>23:55:00</td>\n",
       "      <td>44,450</td>\n",
       "    </tr>\n",
       "    <tr>\n",
       "      <th>4</th>\n",
       "      <td>Air India</td>\n",
       "      <td>AI-544</td>\n",
       "      <td>Delhi</td>\n",
       "      <td>Mumbai</td>\n",
       "      <td>6:40:00</td>\n",
       "      <td>1</td>\n",
       "      <td>17:15:00</td>\n",
       "      <td>23:55:00</td>\n",
       "      <td>46,690</td>\n",
       "    </tr>\n",
       "    <tr>\n",
       "      <th>...</th>\n",
       "      <td>...</td>\n",
       "      <td>...</td>\n",
       "      <td>...</td>\n",
       "      <td>...</td>\n",
       "      <td>...</td>\n",
       "      <td>...</td>\n",
       "      <td>...</td>\n",
       "      <td>...</td>\n",
       "      <td>...</td>\n",
       "    </tr>\n",
       "    <tr>\n",
       "      <th>93482</th>\n",
       "      <td>Vistara</td>\n",
       "      <td>UK-822</td>\n",
       "      <td>Chennai</td>\n",
       "      <td>Hyderabad</td>\n",
       "      <td>10:05:00</td>\n",
       "      <td>1</td>\n",
       "      <td>09:45:00</td>\n",
       "      <td>19:50:00</td>\n",
       "      <td>69,265</td>\n",
       "    </tr>\n",
       "    <tr>\n",
       "      <th>93483</th>\n",
       "      <td>Vistara</td>\n",
       "      <td>UK-826</td>\n",
       "      <td>Chennai</td>\n",
       "      <td>Hyderabad</td>\n",
       "      <td>10:25:00</td>\n",
       "      <td>1</td>\n",
       "      <td>12:30:00</td>\n",
       "      <td>22:55:00</td>\n",
       "      <td>77,105</td>\n",
       "    </tr>\n",
       "    <tr>\n",
       "      <th>93484</th>\n",
       "      <td>Vistara</td>\n",
       "      <td>UK-832</td>\n",
       "      <td>Chennai</td>\n",
       "      <td>Hyderabad</td>\n",
       "      <td>13:50:00</td>\n",
       "      <td>1</td>\n",
       "      <td>07:05:00</td>\n",
       "      <td>20:55:00</td>\n",
       "      <td>79,099</td>\n",
       "    </tr>\n",
       "    <tr>\n",
       "      <th>93485</th>\n",
       "      <td>Vistara</td>\n",
       "      <td>UK-828</td>\n",
       "      <td>Chennai</td>\n",
       "      <td>Hyderabad</td>\n",
       "      <td>10:00:00</td>\n",
       "      <td>1</td>\n",
       "      <td>07:00:00</td>\n",
       "      <td>17:00:00</td>\n",
       "      <td>81,585</td>\n",
       "    </tr>\n",
       "    <tr>\n",
       "      <th>93486</th>\n",
       "      <td>Vistara</td>\n",
       "      <td>UK-822</td>\n",
       "      <td>Chennai</td>\n",
       "      <td>Hyderabad</td>\n",
       "      <td>10:05:00</td>\n",
       "      <td>1</td>\n",
       "      <td>09:45:00</td>\n",
       "      <td>19:50:00</td>\n",
       "      <td>81,585</td>\n",
       "    </tr>\n",
       "  </tbody>\n",
       "</table>\n",
       "<p>93487 rows × 9 columns</p>\n",
       "</div>"
      ],
      "text/plain": [
       "         airline  flight     from         to  duration stops  dep_time  \\\n",
       "0      Air India  AI-868    Delhi     Mumbai   2:00:00     0  18:00:00   \n",
       "1      Air India  AI-624    Delhi     Mumbai   2:15:00     0  19:00:00   \n",
       "2      Air India  AI-531    Delhi     Mumbai   0:45:00     1  20:00:00   \n",
       "3      Air India  AI-839    Delhi     Mumbai   2:30:00     1  21:25:00   \n",
       "4      Air India  AI-544    Delhi     Mumbai   6:40:00     1  17:15:00   \n",
       "...          ...     ...      ...        ...       ...   ...       ...   \n",
       "93482    Vistara  UK-822  Chennai  Hyderabad  10:05:00     1  09:45:00   \n",
       "93483    Vistara  UK-826  Chennai  Hyderabad  10:25:00     1  12:30:00   \n",
       "93484    Vistara  UK-832  Chennai  Hyderabad  13:50:00     1  07:05:00   \n",
       "93485    Vistara  UK-828  Chennai  Hyderabad  10:00:00     1  07:00:00   \n",
       "93486    Vistara  UK-822  Chennai  Hyderabad  10:05:00     1  09:45:00   \n",
       "\n",
       "       arr_time   price  \n",
       "0      20:00:00  25,612  \n",
       "1      21:15:00  25,612  \n",
       "2      20:45:00  42,220  \n",
       "3      23:55:00  44,450  \n",
       "4      23:55:00  46,690  \n",
       "...         ...     ...  \n",
       "93482  19:50:00  69,265  \n",
       "93483  22:55:00  77,105  \n",
       "93484  20:55:00  79,099  \n",
       "93485  17:00:00  81,585  \n",
       "93486  19:50:00  81,585  \n",
       "\n",
       "[93487 rows x 9 columns]"
      ]
     },
     "execution_count": 17,
     "metadata": {},
     "output_type": "execute_result"
    }
   ],
   "source": [
    "df_business_clean"
   ]
  },
  {
   "cell_type": "code",
   "execution_count": null,
   "id": "f225ba9c-8759-4f88-aaa8-fd8218e2bb77",
   "metadata": {},
   "outputs": [],
   "source": []
  }
 ],
 "metadata": {
  "kernelspec": {
   "display_name": "Python [conda env:base] *",
   "language": "python",
   "name": "conda-base-py"
  },
  "language_info": {
   "codemirror_mode": {
    "name": "ipython",
    "version": 3
   },
   "file_extension": ".py",
   "mimetype": "text/x-python",
   "name": "python",
   "nbconvert_exporter": "python",
   "pygments_lexer": "ipython3",
   "version": "3.13.5"
  }
 },
 "nbformat": 4,
 "nbformat_minor": 5
}
