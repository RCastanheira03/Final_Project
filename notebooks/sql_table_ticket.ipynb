{
 "cells": [
  {
   "cell_type": "code",
   "execution_count": null,
   "id": "b084163c-eef5-4638-8f48-266bb3bf1d9e",
   "metadata": {},
   "outputs": [],
   "source": [
    "import yaml\n",
    "import pandas as pd\n",
    " \n",
    "try:\n",
    "    with open(\"../config.yaml\", \"r\") as file:\n",
    "        config = yaml.safe_load(file)\n",
    "\n",
    "    df = pd.read_csv(config['data']['clean_data']['full_clean'], sep=\";\")\n",
    "\n",
    "except:\n",
    "    print(\"Yaml configuration file not found!\")"
   ]
  },
  {
   "cell_type": "code",
   "execution_count": null,
   "id": "26e3a30e-6819-41d4-bcbc-0ebe8b4555fa",
   "metadata": {},
   "outputs": [],
   "source": [
    "df.head()"
   ]
  },
  {
   "cell_type": "code",
   "execution_count": null,
   "id": "19d832a0-063c-4312-9018-42daae6d6447",
   "metadata": {},
   "outputs": [],
   "source": [
    "# Get unique airline\n",
    "airline_name_df = pd.DataFrame({\"airline_name_id\": range(1, df[\"airline\"].nunique() + 1),\n",
    "                          \"airline_name\": df[\"airline\"].drop_duplicates().reset_index(drop=True)})\n",
    "\n",
    "# Get unique flight_number\n",
    "flight_number_df = pd.DataFrame({\"flight_number_id\": range(1, df[\"flight\"].nunique() + 1),\n",
    "                               \"flight_number\": df[\"flight\"].drop_duplicates().reset_index(drop=True)})"
   ]
  },
  {
   "cell_type": "code",
   "execution_count": null,
   "id": "bfa0a9a7-e257-4400-bf1d-27400cd9a710",
   "metadata": {},
   "outputs": [],
   "source": [
    "airline_name_df"
   ]
  },
  {
   "cell_type": "code",
   "execution_count": null,
   "id": "b8e77e99-b394-4076-ab85-53d4ca643712",
   "metadata": {},
   "outputs": [],
   "source": [
    "flight_number_df"
   ]
  },
  {
   "cell_type": "code",
   "execution_count": null,
   "id": "ea11f954-3644-4370-9773-24f948ad192c",
   "metadata": {},
   "outputs": [],
   "source": [
    "# Get unique class\n",
    "class_df = pd.DataFrame({\"class_id\": range(1, df[\"class\"].nunique() + 1),\n",
    "                          \"class\": df[\"class\"].drop_duplicates().reset_index(drop=True)})\n",
    "\n",
    "# Get unique price\n",
    "price_df = pd.DataFrame({\"price_id\": range(1, df[\"price\"].nunique() + 1),\n",
    "                               \"price\": df[\"price\"].drop_duplicates().reset_index(drop=True)})"
   ]
  },
  {
   "cell_type": "code",
   "execution_count": null,
   "id": "8239e77b-7551-468a-a0cf-6b0501604ee9",
   "metadata": {},
   "outputs": [],
   "source": [
    "class_df"
   ]
  },
  {
   "cell_type": "code",
   "execution_count": null,
   "id": "a5d2ddda-6b36-4d5b-8c8f-beb50dadf826",
   "metadata": {},
   "outputs": [],
   "source": [
    "price_df"
   ]
  },
  {
   "cell_type": "code",
   "execution_count": null,
   "id": "51d6a715-ee5b-4fb5-a1c6-f4b0da3eb00b",
   "metadata": {},
   "outputs": [],
   "source": [
    "# Merge airline_name_df\n",
    "ticket_df = df.merge(airline_name_df, how=\"left\", left_on=\"airline\", right_on=\"airline_name\")\n",
    "\n",
    "# Merge flight_number_df\n",
    "ticket_df = ticket_df.merge(flight_number_df, how=\"left\", left_on=\"flight\", right_on=\"flight_number\")\n",
    "\n",
    "# Merge class_df\n",
    "ticket_df = ticket_df.merge(class_df, how=\"left\", left_on=\"class\", right_on=\"class\")\n",
    "\n",
    "# Merge price_df\n",
    "ticket_df = ticket_df.merge(price_df, how=\"left\", left_on=\"price\", right_on=\"price\")"
   ]
  },
  {
   "cell_type": "code",
   "execution_count": null,
   "id": "7d0a1f32-4434-421b-9bf9-ce58535a057a",
   "metadata": {},
   "outputs": [],
   "source": [
    "#Keeping only id columns and dropping duplicates\n",
    "ticket_df = ticket_df[[\"airline_name_id\", \"flight_number_id\", \"class_id\", \"price_id\"]].drop_duplicates().reset_index(drop=True)"
   ]
  },
  {
   "cell_type": "code",
   "execution_count": null,
   "id": "98f04577-5ada-4f42-968b-490dd7a4857a",
   "metadata": {},
   "outputs": [],
   "source": [
    "#Adding primary key (ticket_id)\n",
    "ticket_df[\"ticket_id\"] = range(1, len(ticket_df) + 1)"
   ]
  },
  {
   "cell_type": "code",
   "execution_count": null,
   "id": "8f55961d-d5d8-4663-a3e2-8e042a43c750",
   "metadata": {},
   "outputs": [],
   "source": [
    "#Reordering columns\n",
    "ticket_df = ticket_df[[\"ticket_id\", \"airline_name_id\", \"flight_number_id\", \"class_id\", \"price_id\"]]\n",
    "\n",
    "ticket_df"
   ]
  },
  {
   "cell_type": "code",
   "execution_count": null,
   "id": "140051f8-f525-4a5b-b70e-fd66064a92cc",
   "metadata": {},
   "outputs": [],
   "source": [
    "#Saving new table to csv\n",
    "#ticket_df.to_csv(config['data']['sql']['ticket'], index=False, encoding=\"utf-8\")"
   ]
  }
 ],
 "metadata": {
  "kernelspec": {
   "display_name": "Python [conda env:base] *",
   "language": "python",
   "name": "conda-base-py"
  },
  "language_info": {
   "codemirror_mode": {
    "name": "ipython",
    "version": 3
   },
   "file_extension": ".py",
   "mimetype": "text/x-python",
   "name": "python",
   "nbconvert_exporter": "python",
   "pygments_lexer": "ipython3",
   "version": "3.13.5"
  }
 },
 "nbformat": 4,
 "nbformat_minor": 5
}
