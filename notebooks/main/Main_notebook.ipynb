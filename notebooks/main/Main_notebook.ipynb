{
 "cells": [
  {
   "cell_type": "code",
   "execution_count": null,
   "id": "781f0153-11c7-4ebb-a7d5-563fa5501211",
   "metadata": {},
   "outputs": [],
   "source": [
    "import functions as f"
   ]
  },
  {
   "cell_type": "code",
   "execution_count": null,
   "id": "5c09bef6-5547-4199-aeab-ba51e7f66df3",
   "metadata": {},
   "outputs": [],
   "source": []
  },
  {
   "cell_type": "raw",
   "id": "2a254396-e304-4bae-a329-90d93312f250",
   "metadata": {},
   "source": [
    "Airline Price Analysis — Data Analytics Project"
   ]
  },
  {
   "cell_type": "raw",
   "id": "e8f139a3-03dc-4284-b64e-da3dc12242e5",
   "metadata": {},
   "source": [
    "The aim of our study is to answer the below research questions:\n",
    "\n",
    "1) Does average price vary with Airlines?\n",
    "2) Does price vary depending on lead time?\n",
    "3) Does the flight duration affect ticket price?\n",
    "4) Do direct flights cost more than connecting flights?\n",
    "5) Do ticket prices vary between travel classes?"
   ]
  },
  {
   "cell_type": "code",
   "execution_count": null,
   "id": "f368ca02-1d36-4b6b-8593-c71d9960b1ea",
   "metadata": {},
   "outputs": [],
   "source": []
  },
  {
   "cell_type": "raw",
   "id": "486c28a1-d011-4cdc-8ef5-11e1af6e449f",
   "metadata": {},
   "source": [
    "Question 1: Does average price vary with Airlines?\n",
    "\n",
    "Null hypothesis (H0): mean price is equal across all airlines.\n",
    "Alternative (H1): at least one airline has a different mean price."
   ]
  },
  {
   "cell_type": "code",
   "execution_count": null,
   "id": "995ea253-a114-497c-b3e0-8d358185c303",
   "metadata": {},
   "outputs": [],
   "source": []
  },
  {
   "cell_type": "raw",
   "id": "6cd5e432-7f1c-4897-8d5b-dc80504759fb",
   "metadata": {},
   "source": [
    "Checking if what type of class ticket each airline sells"
   ]
  },
  {
   "cell_type": "code",
   "execution_count": null,
   "id": "c2b2a76c-6a09-49f4-bd99-002e1cb2f47a",
   "metadata": {},
   "outputs": [],
   "source": [
    "f.df.groupby('airline')['class'].unique()"
   ]
  },
  {
   "cell_type": "raw",
   "id": "6bf0c12d-fa81-4338-8b1a-fe63bc84569a",
   "metadata": {},
   "source": [
    "As only two companies sell Business class tickets, we will only analyze prices that are in Economy class.\n",
    "\n",
    "At this stage however, we are considering flights with no stops, 1 stop or 2+ stops, which may affect the results.\n",
    "We therefore have to analyze each case separately."
   ]
  },
  {
   "cell_type": "raw",
   "id": "801ea2e1-51a0-44b4-ae44-121441ac60e8",
   "metadata": {},
   "source": []
  },
  {
   "cell_type": "code",
   "execution_count": null,
   "id": "6bcd8734-4c66-4631-bae7-94d37bea2150",
   "metadata": {},
   "outputs": [],
   "source": [
    "#Flights with no stops\n",
    "df_nonstop = f.df[(f.df['class'] == 'Economy') & (f.df['stops'] == '0')]"
   ]
  },
  {
   "cell_type": "code",
   "execution_count": null,
   "id": "7961de7a-7d57-4413-aa3c-d1ee5875eaa2",
   "metadata": {},
   "outputs": [],
   "source": [
    "#Flights with 1 stop\n",
    "df_1stop = f.df[(f.df['class'] == 'Economy') & (f.df['stops'] == '1')]"
   ]
  },
  {
   "cell_type": "code",
   "execution_count": null,
   "id": "c75a7ed5-8e70-4507-baf9-156e568be2e9",
   "metadata": {},
   "outputs": [],
   "source": [
    "#Flights with 2 or more stops\n",
    "df_2more_stop = f.df[(f.df['class'] == 'Economy') & (f.df['stops'] == '2+')]"
   ]
  },
  {
   "cell_type": "code",
   "execution_count": null,
   "id": "eccc270b-fabc-4576-892a-5c975bdc946a",
   "metadata": {},
   "outputs": [],
   "source": []
  },
  {
   "cell_type": "raw",
   "id": "5c2a25af-5ba8-47b3-8faf-02aef0b4f9e4",
   "metadata": {},
   "source": [
    "Flights with 0 stops"
   ]
  },
  {
   "cell_type": "raw",
   "id": "bec14a16-4c15-4d93-a74c-6996fc8bb4fd",
   "metadata": {},
   "source": [
    "Detecting Outliers in Price"
   ]
  },
  {
   "cell_type": "code",
   "execution_count": null,
   "id": "187e5d49-357d-461c-a3f9-895d58137296",
   "metadata": {},
   "outputs": [],
   "source": [
    "f.price_airline(df_nonstop)"
   ]
  },
  {
   "cell_type": "code",
   "execution_count": null,
   "id": "c06d7988-5110-4c00-9914-cb9a01ad8fc8",
   "metadata": {},
   "outputs": [],
   "source": []
  },
  {
   "cell_type": "raw",
   "id": "8b3b7e83-5a3f-4be0-981a-31efd94bf6ee",
   "metadata": {},
   "source": [
    "Calculating Outliers"
   ]
  },
  {
   "cell_type": "code",
   "execution_count": null,
   "id": "d9ac91c0-c8a0-460b-9d4c-d71cc89d2719",
   "metadata": {},
   "outputs": [],
   "source": [
    "outliers = df_nonstop.groupby('airline', group_keys=False).apply(f.detect_outliers_iqr)\n",
    "print(f\"Total outliers detected: {len(outliers)}\")"
   ]
  },
  {
   "cell_type": "code",
   "execution_count": null,
   "id": "8dfb7844-1297-4631-9a27-8ee6b408f5e0",
   "metadata": {},
   "outputs": [],
   "source": [
    "print(f\"Outlier percentage: {len(outliers) / len(df_nonstop):.2%}\")"
   ]
  },
  {
   "cell_type": "raw",
   "id": "6559919b-b967-4a71-8dc7-b7d830bffaac",
   "metadata": {},
   "source": [
    "Outliers are a small portion (<5%), they likely won’t heavily bias results therefore they are not dropped."
   ]
  },
  {
   "cell_type": "code",
   "execution_count": null,
   "id": "f32f86b8-97c5-4bbc-aa72-7d6f57440ed1",
   "metadata": {},
   "outputs": [],
   "source": []
  },
  {
   "cell_type": "raw",
   "id": "1cc2b285-124b-45f3-bf38-a84cdd4f66eb",
   "metadata": {},
   "source": [
    "Running Shapiro-Wilk test to check for normality within each airline group"
   ]
  },
  {
   "cell_type": "code",
   "execution_count": null,
   "id": "8d5496fc-28a4-4539-b3d5-58bf732dbd86",
   "metadata": {},
   "outputs": [],
   "source": [
    "results = f.shapiro_by_airline(f.df)"
   ]
  },
  {
   "cell_type": "code",
   "execution_count": null,
   "id": "b0836bb2-1ef7-411d-be50-2ead374a5c4d",
   "metadata": {},
   "outputs": [],
   "source": [
    "groups = [group[\"price\"].values for name, group in f.df.groupby(\"airline\")]\n",
    "\n",
    "# Perform one-way ANOVA\n",
    "f_stat, p_value = f.f_oneway(*groups)\n",
    "\n",
    "print(\"F-statistic:\", f_stat)\n",
    "print(\"p-value:\", p_value)"
   ]
  },
  {
   "cell_type": "raw",
   "id": "57d10c15-9bbd-43db-af18-6f6600537341",
   "metadata": {},
   "source": [
    "Decision rule:\n",
    "If p < 0.05, reject H0.\n",
    "\n",
    "Interpretation:\n",
    "There is a statistically significant difference in average ticket prices between airlines."
   ]
  },
  {
   "cell_type": "code",
   "execution_count": null,
   "id": "df35bda0-ca10-4941-bd56-cfbcc1d4d214",
   "metadata": {},
   "outputs": [],
   "source": []
  },
  {
   "cell_type": "raw",
   "id": "0db82302-7b30-402f-8b85-804bbf9c5007",
   "metadata": {},
   "source": [
    "Visualization"
   ]
  },
  {
   "cell_type": "raw",
   "id": "38d031f0-987d-4226-a3b6-4e1d4c7bf864",
   "metadata": {},
   "source": [
    "Confidence Intervals"
   ]
  },
  {
   "cell_type": "code",
   "execution_count": null,
   "id": "5d8601b5-b192-48f2-a18a-3764f47b4006",
   "metadata": {},
   "outputs": [],
   "source": [
    "summary_df = df_nonstop.groupby('airline').agg({\"price\": ['mean', 'std', 'count','sem']}).reset_index()\n",
    "summary_df.columns = ['airline', 'mean', 'std', 'count','sem'] \n",
    "summary_df['lower_bound'] = summary_df['mean'] - (f.st.norm.ppf(1-(0.05/2))*summary_df['sem'])\n",
    "summary_df['upper_bound'] = summary_df['mean'] + (f.st.norm.ppf(1-(0.05/2))*summary_df['sem'])\n",
    "summary_df['error'] = (f.st.norm.ppf(1-(0.05/2))*summary_df['sem'])\n",
    "summary_df.sort_values('mean', ascending=False, inplace=True)\n",
    "display(summary_df)"
   ]
  },
  {
   "cell_type": "code",
   "execution_count": null,
   "id": "47012c31-70d1-40f2-8696-06589552c482",
   "metadata": {},
   "outputs": [],
   "source": [
    "f.plot_airline_means(summary_df, f)"
   ]
  },
  {
   "cell_type": "code",
   "execution_count": null,
   "id": "e063a6f0-f33b-47fa-ba43-f54f0f2b85b5",
   "metadata": {
    "scrolled": true
   },
   "outputs": [],
   "source": [
    "mean_prices = f.plot_mean_price_by_airline(df_nonstop, f)"
   ]
  },
  {
   "cell_type": "code",
   "execution_count": null,
   "id": "fcd9fe13-90cc-4e59-bcdc-1559c2687010",
   "metadata": {},
   "outputs": [],
   "source": []
  },
  {
   "cell_type": "raw",
   "id": "c20c8906-8e48-44f6-8942-58b212dc5083",
   "metadata": {},
   "source": [
    "Flights with 1 stops"
   ]
  },
  {
   "cell_type": "code",
   "execution_count": null,
   "id": "8c61c37a-8552-4a48-b8b8-71c03527f2b2",
   "metadata": {},
   "outputs": [],
   "source": [
    "f.price_airline(df_1stop)"
   ]
  },
  {
   "cell_type": "code",
   "execution_count": null,
   "id": "deee335b-0c67-4001-9225-d4556ee4cc77",
   "metadata": {},
   "outputs": [],
   "source": [
    "outliers = df_1stop.groupby('airline', group_keys=False).apply(f.detect_outliers_iqr)\n",
    "print(f\"Total outliers detected: {len(outliers)}\")"
   ]
  },
  {
   "cell_type": "code",
   "execution_count": null,
   "id": "c826c437-15d5-42bd-b21f-4edef5743310",
   "metadata": {},
   "outputs": [],
   "source": [
    "print(f\"Outlier percentage: {len(outliers) / len(df_nonstop):.2%}\")"
   ]
  },
  {
   "cell_type": "code",
   "execution_count": null,
   "id": "d601ff0d-f6c3-40d8-b884-7c71b04c2cc3",
   "metadata": {},
   "outputs": [],
   "source": [
    "groups = [df_1stop[df_1stop['airline'] == airline]['price'] for airline in df_1stop['airline'].unique()]\n",
    "\n",
    "stat, p = f.kruskal(*groups)\n",
    "\n",
    "print(\"Kruskal–Wallis H-statistic:\", stat)\n",
    "print(\"p-value:\", p)"
   ]
  },
  {
   "cell_type": "code",
   "execution_count": null,
   "id": "e63c346c-cb4c-4a95-9fae-f6b3cbd69d61",
   "metadata": {},
   "outputs": [],
   "source": [
    "stat, p_value = f.kruskal_by_airline(df_1stop, f)"
   ]
  },
  {
   "cell_type": "raw",
   "id": "ca58bee2-0a1d-415c-ac42-80abf5f7de0f",
   "metadata": {},
   "source": [
    "p < 0.05 → significant difference in median ticket prices between at least some airlines."
   ]
  },
  {
   "cell_type": "code",
   "execution_count": null,
   "id": "92639776-ea72-4f79-a776-0b08ab34e1e0",
   "metadata": {},
   "outputs": [],
   "source": [
    "mean_prices = f.plot_mean_price_by_airline(df_1stop, f)"
   ]
  },
  {
   "cell_type": "code",
   "execution_count": null,
   "id": "f5aea27f-b153-4086-8694-7d3fedbc78e2",
   "metadata": {},
   "outputs": [],
   "source": [
    "summary_df = df_1stop.groupby('airline').agg({\"price\": ['mean', 'std', 'count','sem']}).reset_index()\n",
    "summary_df.columns = ['airline', 'mean', 'std', 'count','sem'] \n",
    "summary_df['lower_bound'] = summary_df['mean'] - (f.st.norm.ppf(1-(0.05/2))*summary_df['sem'])\n",
    "summary_df['upper_bound'] = summary_df['mean'] + (f.st.norm.ppf(1-(0.05/2))*summary_df['sem'])\n",
    "summary_df['error'] = (f.st.norm.ppf(1-(0.05/2))*summary_df['sem'])\n",
    "summary_df.sort_values('mean', ascending=False, inplace=True)\n",
    "display(summary_df)"
   ]
  },
  {
   "cell_type": "code",
   "execution_count": null,
   "id": "c2811f4f-9250-44f1-a580-e64673f33959",
   "metadata": {},
   "outputs": [],
   "source": [
    "f.plot_airline_means(summary_df, f)"
   ]
  },
  {
   "cell_type": "raw",
   "id": "17035fc0-e731-42d8-93bf-04ccf4e18492",
   "metadata": {},
   "source": [
    "Flights with 2 or more stops"
   ]
  },
  {
   "cell_type": "code",
   "execution_count": null,
   "id": "a4d910e2-7c52-4d30-95a1-678f3d9a376e",
   "metadata": {},
   "outputs": [],
   "source": [
    "f.price_airline(df_2more_stop)"
   ]
  },
  {
   "cell_type": "code",
   "execution_count": null,
   "id": "f80668d6-e491-456c-a2dd-c3f6821ffcf4",
   "metadata": {},
   "outputs": [],
   "source": [
    "outliers = df_2more_stop.groupby('airline', group_keys=False).apply(f.detect_outliers_iqr)\n",
    "print(f\"Total outliers detected: {len(outliers)}\")"
   ]
  },
  {
   "cell_type": "code",
   "execution_count": null,
   "id": "bdd089be-f87e-4001-992b-8616ea933e8b",
   "metadata": {},
   "outputs": [],
   "source": [
    "print(f\"Outlier percentage: {len(outliers) / len(df_nonstop):.2%}\")"
   ]
  },
  {
   "cell_type": "code",
   "execution_count": null,
   "id": "3b8605ed-0de8-4a13-b2ca-ce3e9b1be6b3",
   "metadata": {},
   "outputs": [],
   "source": [
    "stat, p_value = f.kruskal_by_airline(df_2more_stop, f)"
   ]
  },
  {
   "cell_type": "raw",
   "id": "faf6a721-1473-46fd-a4b9-3e789dda3dbd",
   "metadata": {},
   "source": [
    "p < 0.05 → significant difference in median ticket prices between at least some airlines."
   ]
  },
  {
   "cell_type": "code",
   "execution_count": null,
   "id": "3d80874f-0f1f-49ec-a7d4-da9b3ef7bf16",
   "metadata": {},
   "outputs": [],
   "source": [
    "mean_prices = f.plot_mean_price_by_airline(df_2more_stop, f)"
   ]
  },
  {
   "cell_type": "code",
   "execution_count": null,
   "id": "970f3631-fe72-45fd-aaa7-c1c87304e5fc",
   "metadata": {},
   "outputs": [],
   "source": [
    "summary_df = df_2more_stop.groupby('airline').agg({\"price\": ['mean', 'std', 'count','sem']}).reset_index()\n",
    "summary_df.columns = ['airline', 'mean', 'std', 'count','sem'] \n",
    "summary_df['lower_bound'] = summary_df['mean'] - (f.st.norm.ppf(1-(0.05/2))*summary_df['sem'])\n",
    "summary_df['upper_bound'] = summary_df['mean'] + (f.st.norm.ppf(1-(0.05/2))*summary_df['sem'])\n",
    "summary_df['error'] = (f.st.norm.ppf(1-(0.05/2))*summary_df['sem'])\n",
    "summary_df.sort_values('mean', ascending=False, inplace=True)\n",
    "display(summary_df)"
   ]
  },
  {
   "cell_type": "code",
   "execution_count": null,
   "id": "ec52133b-2187-40ef-9d5c-bafbb687ff14",
   "metadata": {},
   "outputs": [],
   "source": [
    "f.plot_airline_means(summary_df, f)"
   ]
  },
  {
   "cell_type": "code",
   "execution_count": null,
   "id": "bebf52d1-9337-4291-b171-4b5b88388b98",
   "metadata": {},
   "outputs": [],
   "source": []
  },
  {
   "cell_type": "raw",
   "id": "c7b7ab00-f316-425f-a1d4-d06652a94b75",
   "metadata": {},
   "source": [
    "2) Does price vary depending on lead time?"
   ]
  },
  {
   "cell_type": "raw",
   "id": "ee74a1c2-3f97-4572-adad-562a640d34ad",
   "metadata": {},
   "source": [
    "H0 (null): There is no relationship between lead time and ticket price.\n",
    "H1 (alternative): Lower lead time (fewer days before departure) is associated with higher ticket prices."
   ]
  },
  {
   "cell_type": "raw",
   "id": "cb769a45-2e88-4d64-acbb-b635b50b6ac1",
   "metadata": {},
   "source": [
    "Checking the percentage of flights that were made 15 or less days prior to the flight"
   ]
  },
  {
   "cell_type": "code",
   "execution_count": null,
   "id": "c8aceb78-0e04-4ea7-896a-c5b6d91b421e",
   "metadata": {},
   "outputs": [],
   "source": [
    "# total rows\n",
    "total_rows = len(df_nonstop)\n",
    "\n",
    "# number of rows where lead_time_days < 15\n",
    "last_minute = len(df_nonstop[df_nonstop['lead_time_days'] < 15])\n",
    "\n",
    "# percentage\n",
    "percentage_last_minute = (last_minute / total_rows) * 100\n",
    "\n",
    "print(f\"Percentage of bookings made less than 15 days before departure: {percentage_last_minute:.2f}%\")"
   ]
  },
  {
   "cell_type": "code",
   "execution_count": null,
   "id": "666a01bf-366b-4ed6-832a-34d837bc95c5",
   "metadata": {},
   "outputs": [],
   "source": [
    "# Drop NaN or invalid values\n",
    "df_valid = df_nonstop[['lead_time_days', 'price']].dropna()\n",
    "\n",
    "# Spearman correlation\n",
    "corr, pval = f.spearmanr(df_valid['lead_time_days'], df_valid['price'])\n",
    "\n",
    "print(f\"Spearman correlation = {corr:.3f}\")\n",
    "print(f\"p-value = {pval:.5f}\")\n",
    "\n",
    "if pval < 0.05:\n",
    "    print(\"Reject H0 → There is a statistically significant relationship between lead time and price.\")\n",
    "else:\n",
    "    print(\"Fail to reject H0 → No statistically significant relationship found.\")"
   ]
  },
  {
   "cell_type": "code",
   "execution_count": null,
   "id": "ad66b82d-1db7-4077-a06e-4e4bbd254055",
   "metadata": {},
   "outputs": [],
   "source": [
    "f.plot_price_trend_by_lead_time(df_nonstop, f)"
   ]
  },
  {
   "cell_type": "raw",
   "id": "3e6f70e9-c83a-44a8-9ce3-3afbdd904d21",
   "metadata": {},
   "source": [
    "Visual analysis confirms a clear negative relationship between booking lead time and ticket price.\n",
    "Flights booked within two weeks of departure show consistently higher prices across all airlines, contributing partly to the high-price outliers detected earlier."
   ]
  },
  {
   "cell_type": "code",
   "execution_count": null,
   "id": "09efdcef-c1c0-40b5-be76-32b8b61821ac",
   "metadata": {},
   "outputs": [],
   "source": []
  },
  {
   "cell_type": "raw",
   "id": "ec306f22-ec8d-4edb-8679-d562a84c3b9b",
   "metadata": {},
   "source": [
    "3) Does the flight duration affect ticket price?"
   ]
  },
  {
   "cell_type": "raw",
   "id": "2ae831c5-26af-4525-9927-61968f868f97",
   "metadata": {},
   "source": [
    "H0 (null): Flight duration has no effect on ticket price.\n",
    "H1 (alternative): Flight duration affects ticket price (they are correlated)."
   ]
  },
  {
   "cell_type": "code",
   "execution_count": null,
   "id": "dba4f874-7354-46a1-9a91-f24dfd9108f3",
   "metadata": {},
   "outputs": [],
   "source": [
    "# Convert duration (\"HH:MM:SS\") → total minutes\n",
    "f.df['duration'] = (\n",
    "    f.pd.to_timedelta(f.df['duration']).dt.total_seconds() / 60\n",
    ")\n",
    "\n",
    "# Keep relevant columns\n",
    "f.df = f.df[['airline', 'duration', 'price']]\n",
    "\n",
    "# Remove invalid rows (zero or null durations/prices)\n",
    "f.df = f.df[(f.df['duration'] > 0) & (f.df['price'] > 0)]"
   ]
  },
  {
   "cell_type": "code",
   "execution_count": null,
   "id": "ee2865ad-9afd-4c46-9ccb-fa52b40fa4d1",
   "metadata": {},
   "outputs": [],
   "source": []
  },
  {
   "cell_type": "raw",
   "id": "360f0c7d-c995-4736-9c14-b34582ff660c",
   "metadata": {},
   "source": [
    "Visualization of flight duration relates to ticket price"
   ]
  },
  {
   "cell_type": "raw",
   "id": "f6bfe024-169d-4444-a4c7-fdaf7efac3fa",
   "metadata": {},
   "source": [
    "A hexbin plot shows the density of observations (300k rows)"
   ]
  },
  {
   "cell_type": "code",
   "execution_count": null,
   "id": "b72c07d8-df33-4eae-8a1e-24b34c255cbb",
   "metadata": {},
   "outputs": [],
   "source": [
    "f.plot_price_vs_duration(f, f.df)"
   ]
  },
  {
   "cell_type": "code",
   "execution_count": null,
   "id": "f5c005cb-6afa-4d10-874b-3c2d5357e07f",
   "metadata": {},
   "outputs": [],
   "source": [
    "# Pearson correlation (linear)\n",
    "pearson_r, pearson_p = f.pearsonr(f.df['duration'], f.df['price'])\n",
    "# Spearman correlation (monotonic)\n",
    "spearman_r, spearman_p = f.spearmanr(f.df['duration'], f.df['price'])\n",
    "\n",
    "print(f\"Pearson r = {pearson_r:.3f} (p = {pearson_p:.3e})\")\n",
    "print(f\"Spearman r = {spearman_r:.3f} (p = {spearman_p:.3e})\")"
   ]
  },
  {
   "cell_type": "raw",
   "id": "376b65a4-c8d4-4e56-ad72-495997d968eb",
   "metadata": {},
   "source": [
    "Direction: Both correlation coefficients are positive, meaning as flight duration increases, ticket price also tends to increase.\n",
    "\n",
    "Strength:\n",
    "\n",
    "Pearson (0.204) suggests a weak linear relationship.\n",
    "\n",
    "Spearman (0.319) shows a stronger monotonic trend, implying that the relationship might not be perfectly linear (e.g., price grows faster on long-haul flights).\n",
    "\n",
    "Significance: p-value ≈ 0 means the probability this relationship occurred by chance is practically zero — it’s real and statistically significant."
   ]
  },
  {
   "cell_type": "raw",
   "id": "1bb17431-fe87-4c68-bfa3-f8d7b098bf49",
   "metadata": {},
   "source": [
    "There is a statistically significant positive relationship between flight duration and ticket price, though the strength of the correlation is moderate, suggesting that while duration affects price, other factors also influence it."
   ]
  },
  {
   "cell_type": "code",
   "execution_count": null,
   "id": "a5ee22df-78c7-4e97-8b3f-34689201c862",
   "metadata": {},
   "outputs": [],
   "source": []
  },
  {
   "cell_type": "raw",
   "id": "461ef1e7-984b-4b6a-9f9e-99d3f3a6a12e",
   "metadata": {},
   "source": [
    "4) Do direct flights cost more than connecting flights?"
   ]
  },
  {
   "cell_type": "raw",
   "id": "d73a155d-b3f0-4ff2-8519-fb98001345dc",
   "metadata": {},
   "source": [
    "H0 (Null): There is no difference in average prices between direct and connecting flights.\n",
    "H1 (Alt): Direct flights are more expensive than connecting flights."
   ]
  },
  {
   "cell_type": "raw",
   "id": "a8f2c340-c264-44d4-82f5-c2d1c72fe254",
   "metadata": {},
   "source": [
    "For this case we will consider all flights with 2 or more flights as 2 stops"
   ]
  },
  {
   "cell_type": "code",
   "execution_count": null,
   "id": "fdda6879-baf0-423e-9548-74b5b7366e52",
   "metadata": {},
   "outputs": [],
   "source": [
    "df = f.pd.read_csv(f.config['data']['clean_data']['full_clean'], sep=\";\")"
   ]
  },
  {
   "cell_type": "code",
   "execution_count": null,
   "id": "40e9bad2-edca-4e85-b7a3-e2a0dc88ec98",
   "metadata": {},
   "outputs": [],
   "source": [
    "df['stops'] = df['stops'].replace('2+', '2')"
   ]
  },
  {
   "cell_type": "code",
   "execution_count": null,
   "id": "bba4932f-ccc6-4742-8615-c9e5949126c3",
   "metadata": {},
   "outputs": [],
   "source": [
    "# Keep relevant columns\n",
    "df_stops = df[['stops', 'price']].copy()\n",
    "\n",
    "# Ensure 'stops' is numeric\n",
    "df_stops['stops'] = f.pd.to_numeric(df_stops['stops'], errors='coerce')\n",
    "\n",
    "# Drop missing or invalid values\n",
    "df_stops = df_stops.dropna(subset=['stops', 'price'])"
   ]
  },
  {
   "cell_type": "code",
   "execution_count": null,
   "id": "caf53908-ce04-4f3f-8b1e-088d84469fa0",
   "metadata": {},
   "outputs": [],
   "source": [
    "f.plot_price_by_stops(df_stops, f)"
   ]
  },
  {
   "cell_type": "code",
   "execution_count": null,
   "id": "0245329d-cb83-42c8-b9ec-1fbed8a31b66",
   "metadata": {},
   "outputs": [],
   "source": [
    "f.plot_price_density_by_stops(df_stops, f)"
   ]
  },
  {
   "cell_type": "code",
   "execution_count": null,
   "id": "71d79a74-793d-4fce-837f-c09e8005d3a8",
   "metadata": {},
   "outputs": [],
   "source": [
    "df_stops['flight_type'] = df_stops['stops'].apply(lambda x: 'Direct' if x == 0 else 'Connecting')"
   ]
  },
  {
   "cell_type": "code",
   "execution_count": null,
   "id": "69c2b05b-d52c-4650-8e82-5b51095b8506",
   "metadata": {},
   "outputs": [],
   "source": [
    "f.plot_avg_price_by_stops(df_stops, f)"
   ]
  },
  {
   "cell_type": "code",
   "execution_count": null,
   "id": "8662e1d4-672d-4a50-9a62-48f5069c9df0",
   "metadata": {},
   "outputs": [],
   "source": []
  },
  {
   "cell_type": "code",
   "execution_count": null,
   "id": "72eba72d-5c32-43c8-8411-37a70a8f029e",
   "metadata": {},
   "outputs": [],
   "source": [
    "price_by_stops = df_stops.groupby('stops')['price'].describe()[['mean','std','count']]\n",
    "print(price_by_stops)"
   ]
  },
  {
   "cell_type": "raw",
   "id": "699f21af-3f03-4a1c-9f3e-c146f168e687",
   "metadata": {},
   "source": [
    "One-way ANOVA"
   ]
  },
  {
   "cell_type": "code",
   "execution_count": null,
   "id": "6e42f9d4-75cd-4261-9891-c432781022a4",
   "metadata": {},
   "outputs": [],
   "source": [
    "# Create the 'flight_type' variable\n",
    "df_stops['flight_type'] = df_stops['stops'].apply(lambda x: 'Direct' if x == 0 else 'Connecting')\n",
    "\n",
    "# Split prices into two groups\n",
    "direct_prices = df_stops[df_stops['flight_type'] == 'Direct']['price']\n",
    "connecting_prices = df_stops[df_stops['flight_type'] == 'Connecting']['price']\n",
    "\n",
    "# Run one-way ANOVA\n",
    "f_stat, p_value = f.st.stats.f_oneway(direct_prices, connecting_prices)\n",
    "\n",
    "print(f\"ANOVA F-statistic: {f_stat:.3f}, p-value: {p_value:.3e}\")"
   ]
  },
  {
   "cell_type": "raw",
   "id": "12b1af90-2d54-4055-9818-aadf3e1bfddd",
   "metadata": {},
   "source": [
    "If p < 0.05, reject H0 → there are significant price differences among the 3 stop categories."
   ]
  },
  {
   "cell_type": "code",
   "execution_count": null,
   "id": "7528cec0-53f2-4e94-8849-73054cf929a9",
   "metadata": {},
   "outputs": [],
   "source": []
  },
  {
   "cell_type": "raw",
   "id": "a29f5d8a-ed45-4b9c-849d-05bed52329b6",
   "metadata": {},
   "source": [
    "5) Do ticket prices vary between travel classes?"
   ]
  },
  {
   "cell_type": "raw",
   "id": "f6efbec0-c57d-4391-9d93-75099b2e7b30",
   "metadata": {},
   "source": [
    "H0 (Null): There is no difference in price between Economy and Business classes.\n",
    "H1 (Alt): Business class tickets are more expensive."
   ]
  },
  {
   "cell_type": "code",
   "execution_count": null,
   "id": "0935ef28-b471-4b0a-80e5-3819a67c43fa",
   "metadata": {},
   "outputs": [],
   "source": [
    "df_class = df[['class', 'price']].copy()\n",
    "df_class['class'] = df_class['class'].str.strip().str.capitalize()\n",
    "df_class = df_class.dropna(subset=['class', 'price'])"
   ]
  },
  {
   "cell_type": "code",
   "execution_count": null,
   "id": "2ae5511a-42c6-42b6-a018-3f4524ce3757",
   "metadata": {},
   "outputs": [],
   "source": [
    "f.plot_price_by_class(df_class, f)"
   ]
  },
  {
   "cell_type": "code",
   "execution_count": null,
   "id": "df461c7e-bb75-461e-8c7f-a7f7772552fe",
   "metadata": {},
   "outputs": [],
   "source": [
    "f.plot_avg_price_by_class(df, f)"
   ]
  },
  {
   "cell_type": "code",
   "execution_count": null,
   "id": "bb1cd828-9c2b-4715-8e03-8312c4261c77",
   "metadata": {},
   "outputs": [],
   "source": [
    "f.plot_price_distribution_by_class(df, f)"
   ]
  },
  {
   "cell_type": "code",
   "execution_count": null,
   "id": "0f4864c7-ae24-4bab-a3eb-c34a69293057",
   "metadata": {},
   "outputs": [],
   "source": [
    "price_by_class = df_class.groupby('class')['price'].describe()[['mean','std','count']]\n",
    "print(price_by_class)"
   ]
  },
  {
   "cell_type": "code",
   "execution_count": null,
   "id": "ad261799-fd6c-4435-8e7d-0d9544c0e881",
   "metadata": {},
   "outputs": [],
   "source": [
    "economy = df_class.loc[df_class['class'] == 'Economy', 'price']\n",
    "business = df_class.loc[df_class['class'] == 'Business', 'price']\n",
    "\n",
    "t_stat, p_value = f.st.stats.ttest_ind(economy, business, equal_var=False)\n",
    "print(f\"T-statistic: {t_stat:.3f}, p-value: {p_value:.3e}\")"
   ]
  },
  {
   "cell_type": "raw",
   "id": "d698c76f-d3ac-4e3c-bc2b-7a32e9477a87",
   "metadata": {},
   "source": [
    "p < 0.05: Statistically significant difference in average prices.\n",
    "\n",
    "The mean for Business class is expected to be much higher."
   ]
  },
  {
   "cell_type": "raw",
   "id": "35b82431-0fa0-4d8b-aca4-56821852eaed",
   "metadata": {},
   "source": [
    "An independent samples Welch’s t-test was conducted to compare ticket prices between Economy and Business classes.\n",
    "There was a significant difference in prices, t(df) = -1063.85, p < 0.001, with Business class prices being substantially higher than Economy class prices."
   ]
  }
 ],
 "metadata": {
  "kernelspec": {
   "display_name": "Python [conda env:base] *",
   "language": "python",
   "name": "conda-base-py"
  },
  "language_info": {
   "codemirror_mode": {
    "name": "ipython",
    "version": 3
   },
   "file_extension": ".py",
   "mimetype": "text/x-python",
   "name": "python",
   "nbconvert_exporter": "python",
   "pygments_lexer": "ipython3",
   "version": "3.13.5"
  }
 },
 "nbformat": 4,
 "nbformat_minor": 5
}
