{
 "cells": [
  {
   "cell_type": "code",
   "execution_count": null,
   "id": "78c77ec0-068c-42c5-af1a-4d541a944680",
   "metadata": {},
   "outputs": [],
   "source": [
    "import yaml\n",
    "import pandas as pd\n",
    "\n",
    "try:\n",
    "    with open(\"../../config.yaml\", \"r\") as file:\n",
    "        config = yaml.safe_load(file)\n",
    "\n",
    "    df_business_clean = pd.read_csv(config['data']['clean_data']['business_clean'], sep=\";\")\n",
    "    df_economy_clean = pd.read_csv(config['data']['clean_data']['economy_clean'], sep=\";\")\n",
    "\n",
    "except:\n",
    "    print(\"Yaml configuration file not found!\")"
   ]
  },
  {
   "cell_type": "code",
   "execution_count": null,
   "id": "773ec261-cdd4-48b3-9ccf-392fe901a735",
   "metadata": {},
   "outputs": [],
   "source": [
    "df_economy_clean.head()"
   ]
  },
  {
   "cell_type": "code",
   "execution_count": null,
   "id": "93903719-9799-4ea9-a892-299dadd4cb5a",
   "metadata": {},
   "outputs": [],
   "source": [
    "df_combined = pd.concat([df_business_clean, df_economy_clean], ignore_index=True)\n",
    "df_combined"
   ]
  },
  {
   "cell_type": "code",
   "execution_count": null,
   "id": "efa3602e-3f79-435d-b148-a259eaa270c0",
   "metadata": {},
   "outputs": [],
   "source": [
    "stops_df = pd.read_csv(config['data']['sql']['stops'], sep=\",\")"
   ]
  },
  {
   "cell_type": "code",
   "execution_count": null,
   "id": "30133207-9e89-4c17-bba9-7447c0048efb",
   "metadata": {},
   "outputs": [],
   "source": [
    "display(stops_df.head())"
   ]
  },
  {
   "cell_type": "code",
   "execution_count": null,
   "id": "a063e069-1b19-436d-af1f-56a927b324fe",
   "metadata": {},
   "outputs": [],
   "source": [
    "schedule_df = df_combined.merge(stops_df, how=\"inner\", left_on=\"stops\", right_on=\"stops\")"
   ]
  },
  {
   "cell_type": "code",
   "execution_count": null,
   "id": "560845d7-80df-408b-8077-e04ea286c43a",
   "metadata": {},
   "outputs": [],
   "source": [
    "display(schedule_df.head())"
   ]
  },
  {
   "cell_type": "code",
   "execution_count": null,
   "id": "d37ea176-4341-4cb4-a4ea-f7d8c33dce4a",
   "metadata": {},
   "outputs": [],
   "source": [
    "schedule_df = schedule_df[['arr_time','dep_time','duration','stops_id']].drop_duplicates().reset_index(drop=True).reset_index()"
   ]
  },
  {
   "cell_type": "code",
   "execution_count": null,
   "id": "86563ae0-7a53-4a64-91af-47d080b83a91",
   "metadata": {},
   "outputs": [],
   "source": [
    "schedule_df.columns = ['schedule_id', 'arr_time','dep_time','duration','stops_id']"
   ]
  },
  {
   "cell_type": "code",
   "execution_count": null,
   "id": "f2619920-f5ce-4196-afc1-36b4ea6fda9b",
   "metadata": {},
   "outputs": [],
   "source": [
    "schedule_df['schedule_id'] = schedule_df['schedule_id'] + 1\n",
    "schedule_df"
   ]
  },
  {
   "cell_type": "code",
   "execution_count": null,
   "id": "5f2355d8-c5e2-4663-99f2-63966ac22986",
   "metadata": {},
   "outputs": [],
   "source": [
    "schedule_path = config[\"data\"][\"sql\"][\"schedules\"]\n",
    "\n",
    "schedule_df.to_csv(schedule_path, index=False, encoding=\"utf-8\")"
   ]
  },
  {
   "cell_type": "code",
   "execution_count": null,
   "id": "11585515-3a2f-4b92-8af4-60fb7dd879d1",
   "metadata": {},
   "outputs": [],
   "source": [
    "ticket_df = pd.read_csv(config['data']['sql']['ticket'], sep=\",\")"
   ]
  },
  {
   "cell_type": "code",
   "execution_count": null,
   "id": "97a21bb7-73e9-45a6-8764-e85eb7b77926",
   "metadata": {},
   "outputs": [],
   "source": [
    "ticket_df.head()"
   ]
  },
  {
   "cell_type": "code",
   "execution_count": null,
   "id": "c05b50e3-dc65-4922-be49-9ed97500d335",
   "metadata": {},
   "outputs": [],
   "source": [
    "df['schedule_id'] = 1\n",
    "for row1 in range(df.shape[0]):\n",
    "    for row2 in range(schedule_df.shape[0]):\n",
    "        if df.loc[row1,'origin_id'] == itinerary_df.loc[row2,'origin_id'] and df.loc[row1,'destination_id'] == itinerary_df.loc[row2,'destination_id']:\n",
    "            df.loc[row1,'itinerary_id'] = itinerary_df.loc[row2, 'itinerary_id']\n",
    "            break"
   ]
  },
  {
   "cell_type": "code",
   "execution_count": null,
   "id": "c7ee7cbf-6022-4129-8c46-52b86f2c7982",
   "metadata": {},
   "outputs": [],
   "source": [
    "schedule_df = pd.merge(\n",
    "    left=schedule_df, \n",
    "    right=ticket_df,\n",
    "    how='left',\n",
    "    left_on=['airline', 'flight', 'from', 'to', 'stops'],\n",
    "    right_on=['airline', 'flight', 'from', 'to', 'stops'],\n",
    ")"
   ]
  },
  {
   "cell_type": "code",
   "execution_count": null,
   "id": "b69d4c68-d5e4-4cfe-b69f-c9daab96b142",
   "metadata": {},
   "outputs": [],
   "source": [
    "schedule_df.head()"
   ]
  }
 ],
 "metadata": {
  "kernelspec": {
   "display_name": "Python [conda env:base] *",
   "language": "python",
   "name": "conda-base-py"
  },
  "language_info": {
   "codemirror_mode": {
    "name": "ipython",
    "version": 3
   },
   "file_extension": ".py",
   "mimetype": "text/x-python",
   "name": "python",
   "nbconvert_exporter": "python",
   "pygments_lexer": "ipython3",
   "version": "3.13.5"
  }
 },
 "nbformat": 4,
 "nbformat_minor": 5
}
