{
 "cells": [
  {
   "cell_type": "code",
   "execution_count": null,
   "id": "78c77ec0-068c-42c5-af1a-4d541a944680",
   "metadata": {},
   "outputs": [],
   "source": [
    "import yaml\n",
    "import pandas as pd\n",
    "\n",
    "try:\n",
    "    with open(\"../../config.yaml\", \"r\") as file:\n",
    "        config = yaml.safe_load(file)\n",
    "\n",
    "    df_business_clean = pd.read_csv(config['data']['clean_data']['business_clean'], sep=\";\")\n",
    "    df_economy_clean = pd.read_csv(config['data']['clean_data']['economy_clean'], sep=\";\")\n",
    "\n",
    "except:\n",
    "    print(\"Yaml configuration file not found!\")"
   ]
  },
  {
   "cell_type": "code",
   "execution_count": null,
   "id": "bbd11ae8-e0ec-46ab-a828-7243481cfe16",
   "metadata": {},
   "outputs": [],
   "source": [
    "# Combine business and economy flights\n",
    "df_schedules = pd.concat([df_business_clean, df_economy_clean], ignore_index=True)\n",
    "df_schedules"
   ]
  },
  {
   "cell_type": "code",
   "execution_count": null,
   "id": "142ae14b-6a46-4242-a281-6583316020fe",
   "metadata": {},
   "outputs": [],
   "source": [
    "df_schedules = df_schedules[['dep_time', 'arr_time', 'duration', 'stops']]\n",
    "df_schedules"
   ]
  },
  {
   "cell_type": "code",
   "execution_count": null,
   "id": "41b18095-accc-47b0-9c43-fa1735ff1230",
   "metadata": {},
   "outputs": [],
   "source": [
    "%run sql_table_stops.ipynb\n",
    "\n",
    "df_schedules = df_schedules.merge(stops_df, how='left', left_on='stops', right_on='stops')\n",
    "df_schedules"
   ]
  },
  {
   "cell_type": "code",
   "execution_count": null,
   "id": "6c846101-83fb-4c9a-8dd2-c5335196f5c4",
   "metadata": {},
   "outputs": [],
   "source": [
    "df_schedules = df_schedules.drop(columns=['stops'])\n",
    "df_schedules.insert(0, 'schedules_id', range(1, len(df_schedules) + 1))\n",
    "df_schedules"
   ]
  },
  {
   "cell_type": "code",
   "execution_count": null,
   "id": "5f2355d8-c5e2-4663-99f2-63966ac22986",
   "metadata": {},
   "outputs": [],
   "source": [
    "schedules_path = config[\"data\"][\"sql\"][\"schedules\"]\n",
    "\n",
    "df_schedules.to_csv(schedules_path, index=False, encoding=\"utf-8\")"
   ]
  }
 ],
 "metadata": {
  "kernelspec": {
   "display_name": "Python [conda env:base] *",
   "language": "python",
   "name": "conda-base-py"
  },
  "language_info": {
   "codemirror_mode": {
    "name": "ipython",
    "version": 3
   },
   "file_extension": ".py",
   "mimetype": "text/x-python",
   "name": "python",
   "nbconvert_exporter": "python",
   "pygments_lexer": "ipython3",
   "version": "3.13.5"
  }
 },
 "nbformat": 4,
 "nbformat_minor": 5
}
