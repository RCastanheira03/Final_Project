{
 "cells": [
  {
   "cell_type": "code",
   "execution_count": null,
   "id": "b92fd662-f19b-4ae7-b8bb-6e4ce28bb7ed",
   "metadata": {},
   "outputs": [],
   "source": [
    "import yaml\n",
    "import pandas as pd\n",
    "\n",
    "try:\n",
    "    with open(\"../../config.yaml\", \"r\") as file:\n",
    "        config = yaml.safe_load(file)\n",
    "\n",
    "    df = pd.read_csv(config['data']['clean_data']['full_clean'], sep=\";\")\n",
    "    ticket_df = pd.read_csv(config['data']['sql']['ticket'], sep=\",\")\n",
    "    schedule_df = pd.read_csv(config['data']['sql']['schedules'], sep=\",\")\n",
    "    itinerary_df = pd.read_csv(config['data']['sql']['itinerary'], sep=\",\")\n",
    "    flight_number_df = pd.read_csv(config['data']['sql']['number'], sep=\",\")\n",
    "    df_bus = pd.read_csv(config['data']['clean_data']['business_clean'], sep=\";\")\n",
    "    df_eco = pd.read_csv(config['data']['clean_data']['economy_clean'], sep=\";\")\n",
    "\n",
    "except FileNotFoundError:\n",
    "    print(\"One or more CSV or YAML files not found!\")\n"
   ]
  },
  {
   "cell_type": "code",
   "execution_count": null,
   "id": "1e2d1876-0fe8-4866-ac2c-2ee41255c1ab",
   "metadata": {},
   "outputs": [],
   "source": [
    "origin_df = pd.read_csv(config['data']['sql']['origin'], sep=\",\")\n",
    "destination_df = pd.read_csv(config['data']['sql']['destination'], sep=\",\")\n",
    "airline_df = pd.read_csv(config['data']['sql']['airline'], sep=\",\")\n",
    "stops_df = pd.read_csv(config['data']['sql']['stops'], sep=\",\")\n",
    "class_df = pd.read_csv(config['data']['sql']['class'], sep=\",\")"
   ]
  },
  {
   "cell_type": "code",
   "execution_count": null,
   "id": "9c30bb80-8731-495f-b51e-1104700b4524",
   "metadata": {},
   "outputs": [],
   "source": [
    "df.head()"
   ]
  },
  {
   "cell_type": "code",
   "execution_count": null,
   "id": "658dfd8d-88ab-4f0f-9410-12b58cc75910",
   "metadata": {},
   "outputs": [],
   "source": [
    "df.shape"
   ]
  },
  {
   "cell_type": "code",
   "execution_count": null,
   "id": "72f6b728-efab-4601-af70-8f3ae9c4f0b7",
   "metadata": {},
   "outputs": [],
   "source": [
    "df['flight_id'] = [i for i in range(1, df.shape[0]+1) ]\n",
    "df = df.iloc[:, [-1] + [i for i in range(df.shape[1]-1)] ]\n",
    "df.head()"
   ]
  },
  {
   "cell_type": "code",
   "execution_count": null,
   "id": "1fed867f-10ee-4986-88b7-993e1322b40a",
   "metadata": {},
   "outputs": [],
   "source": [
    "class_df = class_df.rename(columns={'class': 'desc'})"
   ]
  },
  {
   "cell_type": "code",
   "execution_count": null,
   "id": "1044845c-78b4-43a7-a59b-3b22be6953ef",
   "metadata": {},
   "outputs": [],
   "source": [
    "origin_replacements = { origin: origin_id for origin_id, origin in zip(origin_df.origin_id, origin_df.origin)}\n",
    "destination_replacements = { destination: destination_id for destination_id, destination in zip(destination_df.destination_id, destination_df.destination)}\n",
    "airline_replacements = { airline_name: airline_name_id for airline_name_id, airline_name in zip(airline_df.airline_name_id, airline_df.airline_name)}\n",
    "stops_replacements = { stops: stops_id for stops_id, stops in zip(stops_df.stops_id, stops_df.stops)}\n",
    "flight_number_replacements = { flight_number: flight_number_id for flight_number_id, flight_number in zip(flight_number_df.flight_number_id, flight_number_df.flight_number)}\n",
    "class_replacements = {desc: class_id for class_id, desc in zip(class_df.class_id, class_df.desc)}"
   ]
  },
  {
   "cell_type": "code",
   "execution_count": null,
   "id": "b618f1fe-5ba0-42c5-899c-a2782bb86a1f",
   "metadata": {},
   "outputs": [],
   "source": [
    "df['origin_id'] = df['from'].replace(origin_replacements)\n",
    "df['destination_id'] = df['to'].replace(destination_replacements)\n",
    "df['airline_id'] = df['airline'].replace(airline_replacements)\n",
    "df['stops_id'] = df['stops'].replace(stops_replacements)\n",
    "df['flight_number_id'] = df['flight'].replace(flight_number_replacements)\n",
    "df['class_id'] = df['class'].replace(class_replacements)"
   ]
  },
  {
   "cell_type": "code",
   "execution_count": null,
   "id": "20a15f4b-b122-4baa-baf4-48c5ff42f305",
   "metadata": {},
   "outputs": [],
   "source": [
    "itinerary_df.columns = ['itinerary_id', 'origin_id', 'destination_id']"
   ]
  },
  {
   "cell_type": "code",
   "execution_count": null,
   "id": "0281589e-e915-4c3c-bc9a-4b9d30cad410",
   "metadata": {},
   "outputs": [],
   "source": [
    "df['itinerary_id'] = 1\n",
    "for row1 in range(df.shape[0]):\n",
    "    for row2 in range(itinerary_df.shape[0]):\n",
    "        if df.loc[row1,'origin_id'] == itinerary_df.loc[row2,'origin_id'] and df.loc[row1,'destination_id'] == itinerary_df.loc[row2,'destination_id']:\n",
    "            df.loc[row1,'itinerary_id'] = itinerary_df.loc[row2, 'itinerary_id']\n",
    "            break\n",
    "\n",
    "df.head()"
   ]
  },
  {
   "cell_type": "code",
   "execution_count": null,
   "id": "ce48c8c2-ec6a-43be-a9f1-dbd9ea7c7dc3",
   "metadata": {},
   "outputs": [],
   "source": [
    "schedule_df.head()"
   ]
  },
  {
   "cell_type": "code",
   "execution_count": null,
   "id": "2cf6b9a9-9d64-4bd1-b40f-d6de518c8bdb",
   "metadata": {},
   "outputs": [],
   "source": [
    "flight_df = pd.merge(\n",
    "    left=df, \n",
    "    right=ticket_df,\n",
    "    how='left',\n",
    "    left_on=['class_id', 'price', 'flight_number_id', 'airline_id'],\n",
    "    right_on=['class_id', 'price', 'flight_number_id', 'airline_name_id'],\n",
    ")\n"
   ]
  },
  {
   "cell_type": "code",
   "execution_count": null,
   "id": "8cf68fd6-6d22-4f3b-bc70-d2f4984aae47",
   "metadata": {},
   "outputs": [],
   "source": [
    "flight_df.drop(columns=['airline', 'flight', 'from', 'to', 'stops', 'class'], inplace=True)\n",
    "flight_df.head()"
   ]
  },
  {
   "cell_type": "code",
   "execution_count": null,
   "id": "980c606b-4cce-470a-96b0-17b9098e6637",
   "metadata": {},
   "outputs": [],
   "source": [
    "flight_df.to_csv(config['data']['sql']['flight'], index=False, encoding=\"utf-8\")"
   ]
  }
 ],
 "metadata": {
  "kernelspec": {
   "display_name": "Python [conda env:base] *",
   "language": "python",
   "name": "conda-base-py"
  },
  "language_info": {
   "codemirror_mode": {
    "name": "ipython",
    "version": 3
   },
   "file_extension": ".py",
   "mimetype": "text/x-python",
   "name": "python",
   "nbconvert_exporter": "python",
   "pygments_lexer": "ipython3",
   "version": "3.13.5"
  }
 },
 "nbformat": 4,
 "nbformat_minor": 5
}
