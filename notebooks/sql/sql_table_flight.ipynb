{
 "cells": [
  {
   "cell_type": "code",
   "execution_count": null,
   "id": "7df868e5-0d9c-4e87-9fc5-7c7f8288d801",
   "metadata": {},
   "outputs": [],
   "source": [
    "import yaml\n",
    "import pandas as pd\n",
    "\n",
    "try:\n",
    "    with open(\"../../config.yaml\", \"r\") as file:\n",
    "        config = yaml.safe_load(file)\n",
    "\n",
    "    ticket_df = pd.read_csv(config['data']['sql']['ticket'], sep=\",\")\n",
    "    schedule_df = pd.read_csv(config['data']['sql']['schedules'], sep=\",\")\n",
    "    itinerary_df = pd.read_csv(config['data']['sql']['itinerary'], sep=\",\")\n",
    "\n",
    "except:\n",
    "    print(\"Yaml configuration file not found!\")"
   ]
  },
  {
   "cell_type": "code",
   "execution_count": null,
   "id": "65d473cf-c890-43f0-b513-e5b1f330f05c",
   "metadata": {},
   "outputs": [],
   "source": [
    "flight_df = pd.DataFrame(columns=[\"flight_id\"])"
   ]
  },
  {
   "cell_type": "code",
   "execution_count": null,
   "id": "0444777f-ff5c-4f40-a85e-6d7482387c04",
   "metadata": {},
   "outputs": [],
   "source": [
    "ticket_subset = ticket_df[[\"ticket_id\", \"airline_name_id\", \"flight_number_id\"]]\n",
    "\n",
    "# Concatenate with an empty flight_df (which will just give the indices aligned)\n",
    "flight_df = pd.concat([ticket_subset], axis=1)\n",
    "\n",
    "# Add flight_id as a sequential primary key\n",
    "flight_df[\"flight_id\"] = range(1, len(flight_df) + 1)\n",
    "\n",
    "# Optional: reorder columns\n",
    "flight_df = flight_df[[\"flight_id\", \"ticket_id\", \"airline_name_id\", \"flight_number_id\"]]\n",
    "\n",
    "flight_df"
   ]
  },
  {
   "cell_type": "code",
   "execution_count": null,
   "id": "3f5f5d4e-fb7c-4f83-8889-2a0fcd9e997d",
   "metadata": {},
   "outputs": [],
   "source": [
    "flight_df.duplicated().any()"
   ]
  },
  {
   "cell_type": "code",
   "execution_count": null,
   "id": "b289bda4-39c2-49df-bfce-0b3de38ffb46",
   "metadata": {},
   "outputs": [],
   "source": [
    "flight_df.isnull().any()"
   ]
  },
  {
   "cell_type": "code",
   "execution_count": null,
   "id": "980c606b-4cce-470a-96b0-17b9098e6637",
   "metadata": {},
   "outputs": [],
   "source": [
    "flight_df.to_csv(config['data']['sql']['flight'], index=False, encoding=\"utf-8\")"
   ]
  }
 ],
 "metadata": {
  "kernelspec": {
   "display_name": "Python [conda env:base] *",
   "language": "python",
   "name": "conda-base-py"
  },
  "language_info": {
   "codemirror_mode": {
    "name": "ipython",
    "version": 3
   },
   "file_extension": ".py",
   "mimetype": "text/x-python",
   "name": "python",
   "nbconvert_exporter": "python",
   "pygments_lexer": "ipython3",
   "version": "3.13.5"
  }
 },
 "nbformat": 4,
 "nbformat_minor": 5
}
