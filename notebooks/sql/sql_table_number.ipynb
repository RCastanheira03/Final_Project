{
 "cells": [
  {
   "cell_type": "code",
   "execution_count": null,
   "id": "227e04b5-c496-4aac-8fbf-1b94c681fd6f",
   "metadata": {},
   "outputs": [],
   "source": [
    "import yaml\n",
    "import pandas as pd\n",
    "\n",
    "try:\n",
    "    with open(\"../../config.yaml\", \"r\") as file:\n",
    "        config = yaml.safe_load(file)\n",
    "\n",
    "    df_full_clean = pd.read_csv(config['data']['clean_data']['full_clean'], sep=\";\")\n",
    "\n",
    "except:\n",
    "    print(\"Yaml configuration file not found!\")"
   ]
  },
  {
   "cell_type": "code",
   "execution_count": null,
   "id": "884ae212-802d-4716-9917-92977b8ac19e",
   "metadata": {},
   "outputs": [],
   "source": [
    "df_full_clean"
   ]
  },
  {
   "cell_type": "code",
   "execution_count": null,
   "id": "4e38a941-21ea-405f-8ce6-a84c351b1c1e",
   "metadata": {},
   "outputs": [],
   "source": [
    "# Get unique flight number\n",
    "flight_number_df = pd.DataFrame({\"flight_number_id\": range(1, df_full_clean[\"flight\"].nunique() + 1),\n",
    "                               \"flight_number\": df_full_clean[\"flight\"].drop_duplicates().reset_index(drop=True)})"
   ]
  },
  {
   "cell_type": "code",
   "execution_count": null,
   "id": "1295c6ee-72bc-47ce-bb34-c478e918ba13",
   "metadata": {},
   "outputs": [],
   "source": [
    "flight_number_df"
   ]
  },
  {
   "cell_type": "code",
   "execution_count": null,
   "id": "37ad9082-f5e9-4662-9b8a-f74a11b01826",
   "metadata": {},
   "outputs": [],
   "source": [
    "flight_number_df.to_csv(config['data']['sql']['number'], index=False, encoding=\"utf-8\")"
   ]
  },
  {
   "cell_type": "code",
   "execution_count": null,
   "id": "7bd56529-7910-4720-ac2c-9d48089be1b3",
   "metadata": {},
   "outputs": [],
   "source": []
  }
 ],
 "metadata": {
  "kernelspec": {
   "display_name": "Python [conda env:base] *",
   "language": "python",
   "name": "conda-base-py"
  },
  "language_info": {
   "codemirror_mode": {
    "name": "ipython",
    "version": 3
   },
   "file_extension": ".py",
   "mimetype": "text/x-python",
   "name": "python",
   "nbconvert_exporter": "python",
   "pygments_lexer": "ipython3",
   "version": "3.13.5"
  }
 },
 "nbformat": 4,
 "nbformat_minor": 5
}
