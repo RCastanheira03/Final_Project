{
 "cells": [
  {
   "cell_type": "code",
   "execution_count": null,
   "id": "9764878d-9ac0-4b46-aa6c-7ec9b71cb7b1",
   "metadata": {},
   "outputs": [],
   "source": [
    "import yaml\n",
    "import pandas as pd\n",
    "\n",
    "try:\n",
    "    with open(\"../../config.yaml\", \"r\") as file:\n",
    "        config = yaml.safe_load(file)\n",
    "\n",
    "    df_full_clean = pd.read_csv(config['data']['clean_data']['full_clean'], sep=\";\")\n",
    "\n",
    "except:\n",
    "    print(\"Yaml configuration file not found!\")"
   ]
  },
  {
   "cell_type": "code",
   "execution_count": null,
   "id": "d5ae3bca-c012-46ae-908d-4b03b7bd1a9a",
   "metadata": {},
   "outputs": [],
   "source": [
    "df_full_clean"
   ]
  },
  {
   "cell_type": "code",
   "execution_count": null,
   "id": "340f83d0-0cc6-4f4f-8743-41eedb79714d",
   "metadata": {},
   "outputs": [],
   "source": [
    "# Get unique class\n",
    "class_df = pd.DataFrame({\"class_id\": range(1, df_full_clean[\"class\"].nunique() + 1),\n",
    "                               \"class\": df_full_clean[\"class\"].drop_duplicates().reset_index(drop=True)})"
   ]
  },
  {
   "cell_type": "code",
   "execution_count": null,
   "id": "bdb09530-0fc8-4364-8f9f-76eef58d661f",
   "metadata": {},
   "outputs": [],
   "source": [
    "class_df"
   ]
  },
  {
   "cell_type": "code",
   "execution_count": null,
   "id": "2d09284b-19a6-4033-a20e-de6ff8614acb",
   "metadata": {},
   "outputs": [],
   "source": [
    "class_df.to_csv(config['data']['sql']['class'], index=False, encoding=\"utf-8\")"
   ]
  }
 ],
 "metadata": {
  "kernelspec": {
   "display_name": "Python [conda env:base] *",
   "language": "python",
   "name": "conda-base-py"
  },
  "language_info": {
   "codemirror_mode": {
    "name": "ipython",
    "version": 3
   },
   "file_extension": ".py",
   "mimetype": "text/x-python",
   "name": "python",
   "nbconvert_exporter": "python",
   "pygments_lexer": "ipython3",
   "version": "3.13.5"
  }
 },
 "nbformat": 4,
 "nbformat_minor": 5
}
