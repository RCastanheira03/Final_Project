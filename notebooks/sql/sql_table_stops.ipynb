{
 "cells": [
  {
   "cell_type": "code",
   "execution_count": null,
   "id": "f745fa8f-7dfe-42b1-aa38-d73c71d4a681",
   "metadata": {},
   "outputs": [],
   "source": [
    "import yaml\n",
    "import pandas as pd\n",
    "\n",
    "try:\n",
    "    with open(\"../../config.yaml\", \"r\") as file:\n",
    "        config = yaml.safe_load(file)\n",
    "\n",
    "    df_full_clean = pd.read_csv(config['data']['clean_data']['full_clean'], sep=\";\")\n",
    "\n",
    "except:\n",
    "    print(\"Yaml configuration file not found!\")"
   ]
  },
  {
   "cell_type": "code",
   "execution_count": null,
   "id": "77796789-512c-4b6b-9b1b-c79c15363351",
   "metadata": {},
   "outputs": [],
   "source": [
    "# Get unique stops\n",
    "stops_df = pd.DataFrame({\"stops_id\": range(1, df_full_clean[\"stops\"].nunique() + 1),\n",
    "                               \"stops\": df_full_clean[\"stops\"].drop_duplicates().reset_index(drop=True)})"
   ]
  },
  {
   "cell_type": "code",
   "execution_count": null,
   "id": "db7a61a0-c74d-465b-82ad-59f0c6fba6c2",
   "metadata": {},
   "outputs": [],
   "source": [
    "stops_df"
   ]
  },
  {
   "cell_type": "code",
   "execution_count": null,
   "id": "c4874dcb-3d04-4c06-b86d-0c5fb323604f",
   "metadata": {},
   "outputs": [],
   "source": [
    "stops_df.to_csv(config['data']['sql']['stops'], index=False, encoding=\"utf-8\")"
   ]
  }
 ],
 "metadata": {
  "kernelspec": {
   "display_name": "Python [conda env:base] *",
   "language": "python",
   "name": "conda-base-py"
  },
  "language_info": {
   "codemirror_mode": {
    "name": "ipython",
    "version": 3
   },
   "file_extension": ".py",
   "mimetype": "text/x-python",
   "name": "python",
   "nbconvert_exporter": "python",
   "pygments_lexer": "ipython3",
   "version": "3.13.5"
  }
 },
 "nbformat": 4,
 "nbformat_minor": 5
}
