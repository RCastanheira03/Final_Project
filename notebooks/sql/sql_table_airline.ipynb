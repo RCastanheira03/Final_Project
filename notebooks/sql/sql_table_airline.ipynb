{
 "cells": [
  {
   "cell_type": "code",
   "execution_count": null,
   "id": "88969fb5-f5a0-46c3-9294-30a353b13fa3",
   "metadata": {},
   "outputs": [],
   "source": [
    "import yaml\n",
    "import pandas as pd\n",
    "\n",
    "try:\n",
    "    with open(\"../../config.yaml\", \"r\") as file:\n",
    "        config = yaml.safe_load(file)\n",
    "\n",
    "    df_full_clean = pd.read_csv(config['data']['clean_data']['full_clean'], sep=\";\")\n",
    "\n",
    "except:\n",
    "    print(\"Yaml configuration file not found!\")"
   ]
  },
  {
   "cell_type": "code",
   "execution_count": null,
   "id": "6ddc0cd9-b3d2-4f29-8b81-2f547e73014c",
   "metadata": {},
   "outputs": [],
   "source": [
    "df_full_clean"
   ]
  },
  {
   "cell_type": "code",
   "execution_count": null,
   "id": "1160e0cc-5a30-497a-b19f-d7216386212f",
   "metadata": {},
   "outputs": [],
   "source": [
    "# Get unique airline name\n",
    "airline_df = pd.DataFrame({\"airline_name_id\": range(1, df_full_clean[\"airline\"].nunique() + 1),\n",
    "                               \"airline_name\": df_full_clean[\"airline\"].drop_duplicates().reset_index(drop=True)})"
   ]
  },
  {
   "cell_type": "code",
   "execution_count": null,
   "id": "91d41142-d75e-4b8f-9feb-2edbfc2ae225",
   "metadata": {},
   "outputs": [],
   "source": [
    "airline_df"
   ]
  },
  {
   "cell_type": "code",
   "execution_count": null,
   "id": "d730a9ed-b7b3-4e22-96fb-ef06c1ea6600",
   "metadata": {},
   "outputs": [],
   "source": [
    "airline_df.to_csv(config['data']['sql']['airline'], index=False, encoding=\"utf-8\")"
   ]
  },
  {
   "cell_type": "code",
   "execution_count": null,
   "id": "afc62dbb-d69d-406f-9f0b-f0b13d2634af",
   "metadata": {},
   "outputs": [],
   "source": []
  }
 ],
 "metadata": {
  "kernelspec": {
   "display_name": "Python [conda env:base] *",
   "language": "python",
   "name": "conda-base-py"
  },
  "language_info": {
   "codemirror_mode": {
    "name": "ipython",
    "version": 3
   },
   "file_extension": ".py",
   "mimetype": "text/x-python",
   "name": "python",
   "nbconvert_exporter": "python",
   "pygments_lexer": "ipython3",
   "version": "3.13.5"
  }
 },
 "nbformat": 4,
 "nbformat_minor": 5
}
