{
 "cells": [
  {
   "cell_type": "code",
   "execution_count": null,
   "id": "f2a3be7d-6ffc-4ed3-bd05-e8a5964e393d",
   "metadata": {},
   "outputs": [],
   "source": [
    "import yaml\n",
    "import pandas as pd\n",
    "\n",
    "try:\n",
    "    with open(\"../../config.yaml\", \"r\") as file:\n",
    "        config = yaml.safe_load(file)\n",
    "\n",
    "    df_full_clean = pd.read_csv(config['data']['clean_data']['full_clean'], sep=\";\")\n",
    "\n",
    "except:\n",
    "    print(\"Yaml configuration file not found!\")"
   ]
  },
  {
   "cell_type": "code",
   "execution_count": null,
   "id": "4a9b67e2-d3ed-4af6-b8e5-540c220bb724",
   "metadata": {},
   "outputs": [],
   "source": [
    "df_full_clean"
   ]
  },
  {
   "cell_type": "code",
   "execution_count": null,
   "id": "f2178086-254d-403e-a787-472031c5073d",
   "metadata": {},
   "outputs": [],
   "source": [
    "# Get unique origin name\n",
    "origin_df = pd.DataFrame({\"origin_id\": range(1, df_full_clean[\"from\"].nunique() + 1),\n",
    "                               \"origin\": df_full_clean[\"from\"].drop_duplicates().reset_index(drop=True)})"
   ]
  },
  {
   "cell_type": "code",
   "execution_count": null,
   "id": "718b9043-5a45-4182-a591-3617358ebf71",
   "metadata": {},
   "outputs": [],
   "source": [
    "origin_df"
   ]
  },
  {
   "cell_type": "code",
   "execution_count": null,
   "id": "f82f300c-14b6-4a18-93ac-ad0f21117d87",
   "metadata": {},
   "outputs": [],
   "source": [
    "origin_df.to_csv(config['data']['sql']['origin'], index=False, encoding=\"utf-8\")"
   ]
  }
 ],
 "metadata": {
  "kernelspec": {
   "display_name": "Python [conda env:base] *",
   "language": "python",
   "name": "conda-base-py"
  },
  "language_info": {
   "codemirror_mode": {
    "name": "ipython",
    "version": 3
   },
   "file_extension": ".py",
   "mimetype": "text/x-python",
   "name": "python",
   "nbconvert_exporter": "python",
   "pygments_lexer": "ipython3",
   "version": "3.13.5"
  }
 },
 "nbformat": 4,
 "nbformat_minor": 5
}
