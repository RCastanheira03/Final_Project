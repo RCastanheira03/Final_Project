{
 "cells": [
  {
   "cell_type": "code",
   "execution_count": null,
   "id": "84ca0622-d1a7-44d2-8834-87ff04792ee7",
   "metadata": {},
   "outputs": [],
   "source": [
    "import yaml\n",
    "import pandas as pd\n",
    " \n",
    "try:\n",
    "    with open(\"../../config.yaml\", \"r\") as file:\n",
    "        config = yaml.safe_load(file)\n",
    "\n",
    "    df = pd.read_csv(config['data']['clean_data']['full_clean'], sep=\";\")\n",
    "\n",
    "except:\n",
    "    print(\"Yaml configuration file not found!\")"
   ]
  },
  {
   "cell_type": "code",
   "execution_count": null,
   "id": "3a3a5ae8-70c8-4dc4-ad06-7d1f915bfc6c",
   "metadata": {},
   "outputs": [],
   "source": [
    "df.head()"
   ]
  },
  {
   "cell_type": "code",
   "execution_count": null,
   "id": "6302c787-f865-4b85-90f4-01e6ab302d63",
   "metadata": {},
   "outputs": [],
   "source": [
    "# Get unique origins\n",
    "origin_df = pd.DataFrame({\"origin_id\": range(1, df[\"from\"].nunique() + 1),\n",
    "                          \"origin\": df[\"from\"].drop_duplicates().reset_index(drop=True)})\n",
    "\n",
    "# Get unique destinations\n",
    "destination_df = pd.DataFrame({\"destination_id\": range(1, df[\"to\"].nunique() + 1),\n",
    "                               \"destination\": df[\"to\"].drop_duplicates().reset_index(drop=True)})"
   ]
  },
  {
   "cell_type": "code",
   "execution_count": null,
   "id": "a9c2444f-8bb2-4e8d-a644-32b66809e54c",
   "metadata": {},
   "outputs": [],
   "source": [
    "origin_df.head()"
   ]
  },
  {
   "cell_type": "code",
   "execution_count": null,
   "id": "0ff7ad70-54ac-4a28-bd1e-24283143abcf",
   "metadata": {},
   "outputs": [],
   "source": [
    "destination_df.head()"
   ]
  },
  {
   "cell_type": "code",
   "execution_count": null,
   "id": "d0e5a2de-e75b-4293-a82c-0a140cfd63d7",
   "metadata": {},
   "outputs": [],
   "source": [
    "# Merge source_city with origin_df to get origin_id\n",
    "itinerary_df = df.merge(origin_df, how=\"left\", left_on=\"from\", right_on=\"origin\")\n",
    "\n",
    "# Merge destination_city with destination_df to get destination_id\n",
    "itinerary_df = itinerary_df.merge(destination_df, how=\"left\", left_on=\"to\", right_on=\"destination\")\n",
    "\n",
    "# Keep only the id columns **and the names**\n",
    "itinerary_df = itinerary_df[[\"origin_id\", \"origin\", \"destination_id\", \"destination\"]].drop_duplicates().reset_index(drop=True)\n",
    "\n",
    "# Add itinerary_id as primary key\n",
    "itinerary_df[\"itinerary_id\"] = range(1, len(itinerary_df) + 1)\n",
    "\n",
    "# Reorder columns\n",
    "itinerary_df = itinerary_df[[\"itinerary_id\", \"origin_id\", \"origin\", \"destination_id\", \"destination\"]]"
   ]
  },
  {
   "cell_type": "code",
   "execution_count": null,
   "id": "c49e885d-a395-413c-b3d8-cdfecf81c85f",
   "metadata": {},
   "outputs": [],
   "source": [
    "itinerary_df"
   ]
  },
  {
   "cell_type": "code",
   "execution_count": null,
   "id": "4c8a246c-8b70-47f7-ae65-51351009833a",
   "metadata": {},
   "outputs": [],
   "source": [
    "#saving itinerary table to csv to be exported to SQL\n",
    "\n",
    "itinerary_path = config[\"data\"][\"sql\"][\"itinerary\"]\n",
    "\n",
    "itinerary_df.to_csv(itinerary_path, index=False, encoding=\"utf-8\")"
   ]
  }
 ],
 "metadata": {
  "kernelspec": {
   "display_name": "Python [conda env:base] *",
   "language": "python",
   "name": "conda-base-py"
  },
  "language_info": {
   "codemirror_mode": {
    "name": "ipython",
    "version": 3
   },
   "file_extension": ".py",
   "mimetype": "text/x-python",
   "name": "python",
   "nbconvert_exporter": "python",
   "pygments_lexer": "ipython3",
   "version": "3.13.5"
  }
 },
 "nbformat": 4,
 "nbformat_minor": 5
}
