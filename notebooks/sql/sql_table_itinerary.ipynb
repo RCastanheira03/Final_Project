{
 "cells": [
  {
   "cell_type": "code",
   "execution_count": null,
   "id": "84ca0622-d1a7-44d2-8834-87ff04792ee7",
   "metadata": {},
   "outputs": [],
   "source": [
    "import yaml\n",
    "import pandas as pd\n",
    " \n",
    "try:\n",
    "    with open(\"../../config.yaml\", \"r\") as file:\n",
    "        config = yaml.safe_load(file)\n",
    "\n",
    "    df = pd.read_csv(config['data']['clean_data']['full_clean'], sep=\";\")\n",
    "\n",
    "except:\n",
    "    print(\"Yaml configuration file not found!\")"
   ]
  },
  {
   "cell_type": "code",
   "execution_count": null,
   "id": "3a3a5ae8-70c8-4dc4-ad06-7d1f915bfc6c",
   "metadata": {},
   "outputs": [],
   "source": [
    "df.head()"
   ]
  },
  {
   "cell_type": "code",
   "execution_count": null,
   "id": "6302c787-f865-4b85-90f4-01e6ab302d63",
   "metadata": {},
   "outputs": [],
   "source": [
    "origin_df = pd.read_csv(config['data']['sql']['origin'], sep=\",\")\n",
    "destination_df = pd.read_csv(config['data']['sql']['destination'], sep=\",\")\n",
    "\n",
    "display(origin_df.head())\n",
    "display(destination_df.head())"
   ]
  },
  {
   "cell_type": "code",
   "execution_count": null,
   "id": "7d1da033-3634-4373-b100-f32eb2fb8119",
   "metadata": {},
   "outputs": [],
   "source": [
    "itinerary_df = df.merge(origin_df, how=\"inner\", left_on=\"from\", right_on=\"origin\").merge(destination_df, how=\"inner\", left_on=\"to\", right_on=\"destination\")\n",
    "itinerary_df = itinerary_df[['origin_id','destination_id']].drop_duplicates().reset_index(drop=True).reset_index()\n",
    "itinerary_df.columns = ['itinerary_id', 'origin_id',' destination_id']\n",
    "itinerary_df['itinerary_id'] = itinerary_df['itinerary_id'] + 1\n",
    "itinerary_df"
   ]
  },
  {
   "cell_type": "code",
   "execution_count": null,
   "id": "4c8a246c-8b70-47f7-ae65-51351009833a",
   "metadata": {},
   "outputs": [],
   "source": [
    "#saving itinerary table to csv to be exported to SQL\n",
    "\n",
    "itinerary_path = config[\"data\"][\"sql\"][\"itinerary\"]\n",
    "\n",
    "itinerary_df.to_csv(itinerary_path, index=False, encoding=\"utf-8\")"
   ]
  },
  {
   "cell_type": "code",
   "execution_count": null,
   "id": "28337e4d-8b1d-4727-ae7b-4d5998c1cee5",
   "metadata": {},
   "outputs": [],
   "source": []
  }
 ],
 "metadata": {
  "kernelspec": {
   "display_name": "Python [conda env:base] *",
   "language": "python",
   "name": "conda-base-py"
  },
  "language_info": {
   "codemirror_mode": {
    "name": "ipython",
    "version": 3
   },
   "file_extension": ".py",
   "mimetype": "text/x-python",
   "name": "python",
   "nbconvert_exporter": "python",
   "pygments_lexer": "ipython3",
   "version": "3.13.5"
  }
 },
 "nbformat": 4,
 "nbformat_minor": 5
}
