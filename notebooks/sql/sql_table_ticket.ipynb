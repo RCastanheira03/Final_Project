{
 "cells": [
  {
   "cell_type": "code",
   "execution_count": null,
   "id": "b084163c-eef5-4638-8f48-266bb3bf1d9e",
   "metadata": {},
   "outputs": [],
   "source": [
    "import yaml\n",
    "import pandas as pd\n",
    " \n",
    "try:\n",
    "    with open(\"../../config.yaml\", \"r\") as file:\n",
    "        config = yaml.safe_load(file)\n",
    "\n",
    "    df = pd.read_csv(config['data']['clean_data']['full_clean'], sep=\";\")\n",
    "\n",
    "except:\n",
    "    print(\"Yaml configuration file not found!\")"
   ]
  },
  {
   "cell_type": "code",
   "execution_count": null,
   "id": "6b5f5619-56df-485e-9519-7828bfe4701c",
   "metadata": {},
   "outputs": [],
   "source": [
    "df.head()"
   ]
  },
  {
   "cell_type": "code",
   "execution_count": null,
   "id": "745aaa2a-104e-4781-b30b-66a100f7644b",
   "metadata": {},
   "outputs": [],
   "source": [
    "class_df = pd.read_csv(config['data']['sql']['class'], sep=\",\")\n",
    "flight_number_df = pd.read_csv(config['data']['sql']['number'], sep=\",\")\n",
    "airline_name_df = pd.read_csv(config['data']['sql']['airline'], sep=\",\")"
   ]
  },
  {
   "cell_type": "code",
   "execution_count": null,
   "id": "d9711ff7-4401-4d82-bed8-a67a803e499c",
   "metadata": {},
   "outputs": [],
   "source": [
    "class_df.head()"
   ]
  },
  {
   "cell_type": "code",
   "execution_count": null,
   "id": "8416e687-0f60-4f17-bf16-a524883e2fd7",
   "metadata": {},
   "outputs": [],
   "source": [
    "flight_number_df.head()"
   ]
  },
  {
   "cell_type": "code",
   "execution_count": null,
   "id": "94245284-dbd4-43df-bdf8-641983dc93d6",
   "metadata": {},
   "outputs": [],
   "source": [
    "airline_name_df.head()"
   ]
  },
  {
   "cell_type": "code",
   "execution_count": null,
   "id": "c8d5fb27-2cb1-406f-9ec3-5be9b8d50e7f",
   "metadata": {},
   "outputs": [],
   "source": [
    "ticket_df = df.merge(class_df, how=\"inner\", left_on=\"class\", right_on=\"class\").merge(flight_number_df, how=\"inner\", left_on=\"flight\", right_on=\"flight_number\").merge(airline_name_df, how=\"inner\", left_on=\"airline\", right_on=\"airline_name\")"
   ]
  },
  {
   "cell_type": "code",
   "execution_count": null,
   "id": "95821c84-324e-4ede-b1df-ac9adfbeaa51",
   "metadata": {},
   "outputs": [],
   "source": [
    "ticket_df.head()"
   ]
  },
  {
   "cell_type": "code",
   "execution_count": null,
   "id": "9ab38ffa-1e85-4e91-92fb-d8de3f7cda9f",
   "metadata": {},
   "outputs": [],
   "source": [
    "ticket_df = ticket_df[['price','class_id','flight_number_id','airline_name_id']].drop_duplicates().reset_index(drop=True).reset_index()\n",
    "ticket_df.columns = ['ticket_id', 'price','class_id','flight_number_id','airline_name_id']\n",
    "ticket_df['ticket_id'] = ticket_df['ticket_id'] + 1\n",
    "ticket_df"
   ]
  },
  {
   "cell_type": "code",
   "execution_count": null,
   "id": "acff1cb9-cd46-4380-a924-4f4a0596310a",
   "metadata": {},
   "outputs": [],
   "source": [
    "#saving ticket table to csv to be exported to SQL\n",
    "\n",
    "ticket_path = config[\"data\"][\"sql\"][\"ticket\"]\n",
    "\n",
    "ticket_df.to_csv(ticket_path, index=False, encoding=\"utf-8\")"
   ]
  }
 ],
 "metadata": {
  "kernelspec": {
   "display_name": "Python [conda env:base] *",
   "language": "python",
   "name": "conda-base-py"
  },
  "language_info": {
   "codemirror_mode": {
    "name": "ipython",
    "version": 3
   },
   "file_extension": ".py",
   "mimetype": "text/x-python",
   "name": "python",
   "nbconvert_exporter": "python",
   "pygments_lexer": "ipython3",
   "version": "3.13.5"
  }
 },
 "nbformat": 4,
 "nbformat_minor": 5
}
