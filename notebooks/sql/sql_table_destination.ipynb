{
 "cells": [
  {
   "cell_type": "code",
   "execution_count": null,
   "id": "02c198b3-4326-4fb5-aa03-028900de705e",
   "metadata": {},
   "outputs": [],
   "source": [
    "import yaml\n",
    "import pandas as pd\n",
    "\n",
    "try:\n",
    "    with open(\"../../config.yaml\", \"r\") as file:\n",
    "        config = yaml.safe_load(file)\n",
    "\n",
    "    df_full_clean = pd.read_csv(config['data']['clean_data']['full_clean'], sep=\";\")\n",
    "\n",
    "except:\n",
    "    print(\"Yaml configuration file not found!\")"
   ]
  },
  {
   "cell_type": "code",
   "execution_count": null,
   "id": "24423120-2e41-415b-8462-7bba6d078fd0",
   "metadata": {},
   "outputs": [],
   "source": [
    "df_full_clean"
   ]
  },
  {
   "cell_type": "code",
   "execution_count": null,
   "id": "febfb8d9-dce9-4127-b989-90299116c47d",
   "metadata": {},
   "outputs": [],
   "source": [
    "# Get unique destination name\n",
    "destination_df = pd.DataFrame({\"destination_id\": range(1, df_full_clean[\"to\"].nunique() + 1),\n",
    "                               \"destination\": df_full_clean[\"to\"].drop_duplicates().reset_index(drop=True)})"
   ]
  },
  {
   "cell_type": "code",
   "execution_count": null,
   "id": "1b61c049-b9e8-4842-ab6e-582a9c907049",
   "metadata": {},
   "outputs": [],
   "source": [
    "destination_df"
   ]
  },
  {
   "cell_type": "code",
   "execution_count": null,
   "id": "cddf6317-59b5-45c5-ae87-b2daeddf5710",
   "metadata": {},
   "outputs": [],
   "source": [
    "destination_df.to_csv(config['data']['sql']['destination'], index=False, encoding=\"utf-8\")"
   ]
  }
 ],
 "metadata": {
  "kernelspec": {
   "display_name": "Python [conda env:base] *",
   "language": "python",
   "name": "conda-base-py"
  },
  "language_info": {
   "codemirror_mode": {
    "name": "ipython",
    "version": 3
   },
   "file_extension": ".py",
   "mimetype": "text/x-python",
   "name": "python",
   "nbconvert_exporter": "python",
   "pygments_lexer": "ipython3",
   "version": "3.13.5"
  }
 },
 "nbformat": 4,
 "nbformat_minor": 5
}
