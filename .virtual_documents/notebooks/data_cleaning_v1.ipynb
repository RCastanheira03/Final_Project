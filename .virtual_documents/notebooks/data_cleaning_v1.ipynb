import yaml
import pandas as pd
 
try:
    with open("../config.yaml", "r") as file:
        config = yaml.safe_load(file)

    df_business = pd.read_csv(config['data']['raw_data']['business'])
    df_economy = pd.read_csv(config['data']['raw_data']['economy'])
    df_full = pd.read_csv(config['data']['raw_data']['full'])

except:
    print("Yaml configuration file not found!")





df_business.head()





df_business.rename(columns={'time_taken': 'duration'}, inplace=True)





df_business['flight'] = df_business['ch_code'].astype(str) + '-' + df_business['num_code'].astype(str)





df_business["stop"].nunique()


df_business["stop"].unique()


df_business['stop'] = df_business['stop'].str.split('\n').str[0].str.strip()
df_business["stop"].unique()





df_business.isnull().sum()


df_business.duplicated().any()





df_business.dtypes


df_business.head()





business_clean = df_business.drop(columns=["date", "ch_code", "num_code"])


business_clean.head()


business_clean.to_csv(config['data']['clean_data']['business_clean'], index=False, sep=";", encoding="utf-8")





df_economy.head()





df_economy.rename(columns={'time_taken': 'duration'}, inplace=True)





df_economy['flight'] = df_economy['ch_code'].astype(str) + '-' + df_economy['num_code'].astype(str)





df_economy["stop"].nunique()


df_economy["stop"].unique()


df_economy['stop'] = df_economy['stop'].str.split('\n').str[0].str.strip()
df_economy["stop"].unique()





df_economy.isnull().sum()


df_economy.duplicated().any()


df_economy.duplicated().sum()


df_economy.drop_duplicates(inplace=True)


df_economy.duplicated().any()


df_economy.dtypes





economy_clean = df_economy.drop(columns=["date"])


economy_clean.to_csv(config['data']['clean_data']['economy_clean'], index=False, sep=";", encoding="utf-8")





df_full.head()


df_full.dtypes


df_full.isnull().any()


df_full.duplicated().any()


df_full = df_full.drop(columns=['Unnamed: 0'])


df_full.head()


df_full["departure_time"].unique()


df_full["class"].unique()





df_full['duration'] = df_full['duration'].apply(lambda x: f"{int(x)}h {int(round((x - int(x)) * 100)):02d}m")
df_full.head()





df_full.rename(columns={'days_left': 'lead_time_days'}, inplace=True)





df_full.to_csv(config['data']['clean_data']['full_clean'], index=False, sep=";", encoding="utf-8")
